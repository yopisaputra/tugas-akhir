{
 "cells": [
  {
   "cell_type": "markdown",
   "metadata": {},
   "source": [
    "# Import Library"
   ]
  },
  {
   "cell_type": "code",
   "execution_count": 1,
   "metadata": {},
   "outputs": [],
   "source": [
    "# Import the numpy and pandas package\n",
    "import numpy as np\n",
    "import pandas as pd\n",
    "\n",
    "# Import plotly packages\n",
    "import matplotlib.pyplot as plt\n",
    "import plotly.express as px\n",
    "\n",
    "\n",
    "from sklearn.preprocessing import MinMaxScaler "
   ]
  },
  {
   "cell_type": "markdown",
   "metadata": {},
   "source": [
    "# Import Dataset"
   ]
  },
  {
   "cell_type": "code",
   "execution_count": 4,
   "metadata": {},
   "outputs": [],
   "source": [
    "dataset = pd.read_excel(r'Dataset_Obat.xlsx')"
   ]
  },
  {
   "cell_type": "code",
   "execution_count": 5,
   "metadata": {},
   "outputs": [],
   "source": [
    "# Convert Dataset into DataFrame\n",
    "dataset = pd.DataFrame(dataset)"
   ]
  },
  {
   "cell_type": "markdown",
   "metadata": {},
   "source": [
    "# EDA"
   ]
  },
  {
   "cell_type": "code",
   "execution_count": 6,
   "metadata": {},
   "outputs": [
    {
     "data": {
      "text/html": [
       "<div>\n",
       "<style scoped>\n",
       "    .dataframe tbody tr th:only-of-type {\n",
       "        vertical-align: middle;\n",
       "    }\n",
       "\n",
       "    .dataframe tbody tr th {\n",
       "        vertical-align: top;\n",
       "    }\n",
       "\n",
       "    .dataframe thead th {\n",
       "        text-align: right;\n",
       "    }\n",
       "</style>\n",
       "<table border=\"1\" class=\"dataframe\">\n",
       "  <thead>\n",
       "    <tr style=\"text-align: right;\">\n",
       "      <th></th>\n",
       "      <th>Month</th>\n",
       "      <th>Use</th>\n",
       "    </tr>\n",
       "  </thead>\n",
       "  <tbody>\n",
       "    <tr>\n",
       "      <th>0</th>\n",
       "      <td>2015-01-01</td>\n",
       "      <td>12748</td>\n",
       "    </tr>\n",
       "    <tr>\n",
       "      <th>1</th>\n",
       "      <td>2015-02-01</td>\n",
       "      <td>13958</td>\n",
       "    </tr>\n",
       "    <tr>\n",
       "      <th>2</th>\n",
       "      <td>2015-03-01</td>\n",
       "      <td>12857</td>\n",
       "    </tr>\n",
       "    <tr>\n",
       "      <th>3</th>\n",
       "      <td>2015-04-01</td>\n",
       "      <td>13486</td>\n",
       "    </tr>\n",
       "    <tr>\n",
       "      <th>4</th>\n",
       "      <td>2015-05-01</td>\n",
       "      <td>13064</td>\n",
       "    </tr>\n",
       "  </tbody>\n",
       "</table>\n",
       "</div>"
      ],
      "text/plain": [
       "       Month    Use\n",
       "0 2015-01-01  12748\n",
       "1 2015-02-01  13958\n",
       "2 2015-03-01  12857\n",
       "3 2015-04-01  13486\n",
       "4 2015-05-01  13064"
      ]
     },
     "execution_count": 6,
     "metadata": {},
     "output_type": "execute_result"
    }
   ],
   "source": [
    "dataset.head()"
   ]
  },
  {
   "cell_type": "code",
   "execution_count": 7,
   "metadata": {},
   "outputs": [
    {
     "data": {
      "text/plain": [
       "(84, 2)"
      ]
     },
     "execution_count": 7,
     "metadata": {},
     "output_type": "execute_result"
    }
   ],
   "source": [
    "#Check Shape\n",
    "dataset.shape"
   ]
  },
  {
   "cell_type": "code",
   "execution_count": 8,
   "metadata": {},
   "outputs": [
    {
     "data": {
      "text/plain": [
       "Month    0\n",
       "Use      0\n",
       "dtype: int64"
      ]
     },
     "execution_count": 8,
     "metadata": {},
     "output_type": "execute_result"
    }
   ],
   "source": [
    "#Check Null\n",
    "dataset.isnull().sum()"
   ]
  },
  {
   "cell_type": "code",
   "execution_count": 9,
   "metadata": {},
   "outputs": [
    {
     "data": {
      "text/plain": [
       "Month    datetime64[ns]\n",
       "Use               int64\n",
       "dtype: object"
      ]
     },
     "execution_count": 9,
     "metadata": {},
     "output_type": "execute_result"
    }
   ],
   "source": [
    "# Check DataTypes\n",
    "dataset.dtypes"
   ]
  },
  {
   "cell_type": "code",
   "execution_count": 10,
   "metadata": {},
   "outputs": [
    {
     "data": {
      "text/html": [
       "<div>\n",
       "<style scoped>\n",
       "    .dataframe tbody tr th:only-of-type {\n",
       "        vertical-align: middle;\n",
       "    }\n",
       "\n",
       "    .dataframe tbody tr th {\n",
       "        vertical-align: top;\n",
       "    }\n",
       "\n",
       "    .dataframe thead th {\n",
       "        text-align: right;\n",
       "    }\n",
       "</style>\n",
       "<table border=\"1\" class=\"dataframe\">\n",
       "  <thead>\n",
       "    <tr style=\"text-align: right;\">\n",
       "      <th></th>\n",
       "      <th>Use</th>\n",
       "    </tr>\n",
       "  </thead>\n",
       "  <tbody>\n",
       "    <tr>\n",
       "      <th>count</th>\n",
       "      <td>84.000000</td>\n",
       "    </tr>\n",
       "    <tr>\n",
       "      <th>mean</th>\n",
       "      <td>13291.166667</td>\n",
       "    </tr>\n",
       "    <tr>\n",
       "      <th>std</th>\n",
       "      <td>663.332420</td>\n",
       "    </tr>\n",
       "    <tr>\n",
       "      <th>min</th>\n",
       "      <td>12007.000000</td>\n",
       "    </tr>\n",
       "    <tr>\n",
       "      <th>25%</th>\n",
       "      <td>12776.000000</td>\n",
       "    </tr>\n",
       "    <tr>\n",
       "      <th>50%</th>\n",
       "      <td>13210.500000</td>\n",
       "    </tr>\n",
       "    <tr>\n",
       "      <th>75%</th>\n",
       "      <td>13866.750000</td>\n",
       "    </tr>\n",
       "    <tr>\n",
       "      <th>max</th>\n",
       "      <td>14589.000000</td>\n",
       "    </tr>\n",
       "  </tbody>\n",
       "</table>\n",
       "</div>"
      ],
      "text/plain": [
       "                Use\n",
       "count     84.000000\n",
       "mean   13291.166667\n",
       "std      663.332420\n",
       "min    12007.000000\n",
       "25%    12776.000000\n",
       "50%    13210.500000\n",
       "75%    13866.750000\n",
       "max    14589.000000"
      ]
     },
     "execution_count": 10,
     "metadata": {},
     "output_type": "execute_result"
    }
   ],
   "source": [
    "# Descriptive statistics summary\n",
    "dataset.describe()"
   ]
  },
  {
   "cell_type": "code",
   "execution_count": 11,
   "metadata": {},
   "outputs": [
    {
     "data": {
      "application/vnd.plotly.v1+json": {
       "config": {
        "plotlyServerURL": "https://plot.ly"
       },
       "data": [
        {
         "hovertemplate": "Month=%{x}<br>Use=%{y}<extra></extra>",
         "legendgroup": "",
         "line": {
          "color": "#636efa",
          "dash": "solid"
         },
         "marker": {
          "symbol": "circle"
         },
         "mode": "lines",
         "name": "",
         "orientation": "v",
         "showlegend": false,
         "type": "scatter",
         "x": [
          "2015-01-01T00:00:00",
          "2015-02-01T00:00:00",
          "2015-03-01T00:00:00",
          "2015-04-01T00:00:00",
          "2015-05-01T00:00:00",
          "2015-06-01T00:00:00",
          "2015-07-01T00:00:00",
          "2015-08-01T00:00:00",
          "2015-09-01T00:00:00",
          "2015-10-01T00:00:00",
          "2015-11-01T00:00:00",
          "2015-12-01T00:00:00",
          "2016-01-01T00:00:00",
          "2016-02-01T00:00:00",
          "2016-03-01T00:00:00",
          "2016-04-01T00:00:00",
          "2016-05-01T00:00:00",
          "2016-06-01T00:00:00",
          "2016-07-01T00:00:00",
          "2016-08-01T00:00:00",
          "2016-09-01T00:00:00",
          "2016-10-01T00:00:00",
          "2016-11-01T00:00:00",
          "2016-12-01T00:00:00",
          "2017-01-01T00:00:00",
          "2017-02-01T00:00:00",
          "2017-03-01T00:00:00",
          "2017-04-01T00:00:00",
          "2017-05-01T00:00:00",
          "2017-06-01T00:00:00",
          "2017-07-01T00:00:00",
          "2017-08-01T00:00:00",
          "2017-09-01T00:00:00",
          "2017-10-01T00:00:00",
          "2017-11-01T00:00:00",
          "2017-12-01T00:00:00",
          "2018-01-01T00:00:00",
          "2018-02-01T00:00:00",
          "2018-03-01T00:00:00",
          "2018-04-01T00:00:00",
          "2018-05-01T00:00:00",
          "2018-06-01T00:00:00",
          "2018-07-01T00:00:00",
          "2018-08-01T00:00:00",
          "2018-09-01T00:00:00",
          "2018-10-01T00:00:00",
          "2018-11-01T00:00:00",
          "2018-12-01T00:00:00",
          "2019-01-01T00:00:00",
          "2019-02-01T00:00:00",
          "2019-03-01T00:00:00",
          "2019-04-01T00:00:00",
          "2019-05-01T00:00:00",
          "2019-06-01T00:00:00",
          "2019-07-01T00:00:00",
          "2019-08-01T00:00:00",
          "2019-09-01T00:00:00",
          "2019-10-01T00:00:00",
          "2019-11-01T00:00:00",
          "2019-12-01T00:00:00",
          "2020-01-01T00:00:00",
          "2020-02-01T00:00:00",
          "2020-03-01T00:00:00",
          "2020-04-01T00:00:00",
          "2020-05-01T00:00:00",
          "2020-06-01T00:00:00",
          "2020-07-01T00:00:00",
          "2020-08-01T00:00:00",
          "2020-09-01T00:00:00",
          "2020-10-01T00:00:00",
          "2020-11-01T00:00:00",
          "2020-12-01T00:00:00",
          "2021-01-01T00:00:00",
          "2021-02-01T00:00:00",
          "2021-03-01T00:00:00",
          "2021-04-01T00:00:00",
          "2021-05-01T00:00:00",
          "2021-06-01T00:00:00",
          "2021-07-01T00:00:00",
          "2021-08-01T00:00:00",
          "2021-09-01T00:00:00",
          "2021-10-01T00:00:00",
          "2021-11-01T00:00:00",
          "2021-12-01T00:00:00"
         ],
         "xaxis": "x",
         "y": [
          12748,
          13958,
          12857,
          13486,
          13064,
          13046,
          12460,
          13778,
          12859,
          13091,
          13849,
          13687,
          13855,
          13048,
          13068,
          12187,
          13086,
          13957,
          12576,
          12879,
          12086,
          13958,
          13404,
          13902,
          12595,
          12958,
          13650,
          14038,
          13086,
          13205,
          14038,
          13216,
          13200,
          12549,
          12475,
          12913,
          12687,
          12264,
          13950,
          12960,
          12652,
          12925,
          13472,
          13962,
          13548,
          12288,
          14013,
          14223,
          12514,
          13579,
          13531,
          14385,
          14589,
          12782,
          12405,
          12043,
          13035,
          13469,
          14013,
          14259,
          14269,
          13595,
          12007,
          12159,
          12758,
          13715,
          12939,
          13671,
          13388,
          14149,
          14319,
          14275,
          13377,
          12671,
          13241,
          12628,
          13106,
          12684,
          14255,
          13834,
          13110,
          14480,
          13261,
          14207
         ],
         "yaxis": "y"
        }
       ],
       "layout": {
        "legend": {
         "tracegroupgap": 0
        },
        "margin": {
         "t": 60
        },
        "template": {
         "data": {
          "bar": [
           {
            "error_x": {
             "color": "#2a3f5f"
            },
            "error_y": {
             "color": "#2a3f5f"
            },
            "marker": {
             "line": {
              "color": "#E5ECF6",
              "width": 0.5
             },
             "pattern": {
              "fillmode": "overlay",
              "size": 10,
              "solidity": 0.2
             }
            },
            "type": "bar"
           }
          ],
          "barpolar": [
           {
            "marker": {
             "line": {
              "color": "#E5ECF6",
              "width": 0.5
             },
             "pattern": {
              "fillmode": "overlay",
              "size": 10,
              "solidity": 0.2
             }
            },
            "type": "barpolar"
           }
          ],
          "carpet": [
           {
            "aaxis": {
             "endlinecolor": "#2a3f5f",
             "gridcolor": "white",
             "linecolor": "white",
             "minorgridcolor": "white",
             "startlinecolor": "#2a3f5f"
            },
            "baxis": {
             "endlinecolor": "#2a3f5f",
             "gridcolor": "white",
             "linecolor": "white",
             "minorgridcolor": "white",
             "startlinecolor": "#2a3f5f"
            },
            "type": "carpet"
           }
          ],
          "choropleth": [
           {
            "colorbar": {
             "outlinewidth": 0,
             "ticks": ""
            },
            "type": "choropleth"
           }
          ],
          "contour": [
           {
            "colorbar": {
             "outlinewidth": 0,
             "ticks": ""
            },
            "colorscale": [
             [
              0,
              "#0d0887"
             ],
             [
              0.1111111111111111,
              "#46039f"
             ],
             [
              0.2222222222222222,
              "#7201a8"
             ],
             [
              0.3333333333333333,
              "#9c179e"
             ],
             [
              0.4444444444444444,
              "#bd3786"
             ],
             [
              0.5555555555555556,
              "#d8576b"
             ],
             [
              0.6666666666666666,
              "#ed7953"
             ],
             [
              0.7777777777777778,
              "#fb9f3a"
             ],
             [
              0.8888888888888888,
              "#fdca26"
             ],
             [
              1,
              "#f0f921"
             ]
            ],
            "type": "contour"
           }
          ],
          "contourcarpet": [
           {
            "colorbar": {
             "outlinewidth": 0,
             "ticks": ""
            },
            "type": "contourcarpet"
           }
          ],
          "heatmap": [
           {
            "colorbar": {
             "outlinewidth": 0,
             "ticks": ""
            },
            "colorscale": [
             [
              0,
              "#0d0887"
             ],
             [
              0.1111111111111111,
              "#46039f"
             ],
             [
              0.2222222222222222,
              "#7201a8"
             ],
             [
              0.3333333333333333,
              "#9c179e"
             ],
             [
              0.4444444444444444,
              "#bd3786"
             ],
             [
              0.5555555555555556,
              "#d8576b"
             ],
             [
              0.6666666666666666,
              "#ed7953"
             ],
             [
              0.7777777777777778,
              "#fb9f3a"
             ],
             [
              0.8888888888888888,
              "#fdca26"
             ],
             [
              1,
              "#f0f921"
             ]
            ],
            "type": "heatmap"
           }
          ],
          "heatmapgl": [
           {
            "colorbar": {
             "outlinewidth": 0,
             "ticks": ""
            },
            "colorscale": [
             [
              0,
              "#0d0887"
             ],
             [
              0.1111111111111111,
              "#46039f"
             ],
             [
              0.2222222222222222,
              "#7201a8"
             ],
             [
              0.3333333333333333,
              "#9c179e"
             ],
             [
              0.4444444444444444,
              "#bd3786"
             ],
             [
              0.5555555555555556,
              "#d8576b"
             ],
             [
              0.6666666666666666,
              "#ed7953"
             ],
             [
              0.7777777777777778,
              "#fb9f3a"
             ],
             [
              0.8888888888888888,
              "#fdca26"
             ],
             [
              1,
              "#f0f921"
             ]
            ],
            "type": "heatmapgl"
           }
          ],
          "histogram": [
           {
            "marker": {
             "pattern": {
              "fillmode": "overlay",
              "size": 10,
              "solidity": 0.2
             }
            },
            "type": "histogram"
           }
          ],
          "histogram2d": [
           {
            "colorbar": {
             "outlinewidth": 0,
             "ticks": ""
            },
            "colorscale": [
             [
              0,
              "#0d0887"
             ],
             [
              0.1111111111111111,
              "#46039f"
             ],
             [
              0.2222222222222222,
              "#7201a8"
             ],
             [
              0.3333333333333333,
              "#9c179e"
             ],
             [
              0.4444444444444444,
              "#bd3786"
             ],
             [
              0.5555555555555556,
              "#d8576b"
             ],
             [
              0.6666666666666666,
              "#ed7953"
             ],
             [
              0.7777777777777778,
              "#fb9f3a"
             ],
             [
              0.8888888888888888,
              "#fdca26"
             ],
             [
              1,
              "#f0f921"
             ]
            ],
            "type": "histogram2d"
           }
          ],
          "histogram2dcontour": [
           {
            "colorbar": {
             "outlinewidth": 0,
             "ticks": ""
            },
            "colorscale": [
             [
              0,
              "#0d0887"
             ],
             [
              0.1111111111111111,
              "#46039f"
             ],
             [
              0.2222222222222222,
              "#7201a8"
             ],
             [
              0.3333333333333333,
              "#9c179e"
             ],
             [
              0.4444444444444444,
              "#bd3786"
             ],
             [
              0.5555555555555556,
              "#d8576b"
             ],
             [
              0.6666666666666666,
              "#ed7953"
             ],
             [
              0.7777777777777778,
              "#fb9f3a"
             ],
             [
              0.8888888888888888,
              "#fdca26"
             ],
             [
              1,
              "#f0f921"
             ]
            ],
            "type": "histogram2dcontour"
           }
          ],
          "mesh3d": [
           {
            "colorbar": {
             "outlinewidth": 0,
             "ticks": ""
            },
            "type": "mesh3d"
           }
          ],
          "parcoords": [
           {
            "line": {
             "colorbar": {
              "outlinewidth": 0,
              "ticks": ""
             }
            },
            "type": "parcoords"
           }
          ],
          "pie": [
           {
            "automargin": true,
            "type": "pie"
           }
          ],
          "scatter": [
           {
            "fillpattern": {
             "fillmode": "overlay",
             "size": 10,
             "solidity": 0.2
            },
            "type": "scatter"
           }
          ],
          "scatter3d": [
           {
            "line": {
             "colorbar": {
              "outlinewidth": 0,
              "ticks": ""
             }
            },
            "marker": {
             "colorbar": {
              "outlinewidth": 0,
              "ticks": ""
             }
            },
            "type": "scatter3d"
           }
          ],
          "scattercarpet": [
           {
            "marker": {
             "colorbar": {
              "outlinewidth": 0,
              "ticks": ""
             }
            },
            "type": "scattercarpet"
           }
          ],
          "scattergeo": [
           {
            "marker": {
             "colorbar": {
              "outlinewidth": 0,
              "ticks": ""
             }
            },
            "type": "scattergeo"
           }
          ],
          "scattergl": [
           {
            "marker": {
             "colorbar": {
              "outlinewidth": 0,
              "ticks": ""
             }
            },
            "type": "scattergl"
           }
          ],
          "scattermapbox": [
           {
            "marker": {
             "colorbar": {
              "outlinewidth": 0,
              "ticks": ""
             }
            },
            "type": "scattermapbox"
           }
          ],
          "scatterpolar": [
           {
            "marker": {
             "colorbar": {
              "outlinewidth": 0,
              "ticks": ""
             }
            },
            "type": "scatterpolar"
           }
          ],
          "scatterpolargl": [
           {
            "marker": {
             "colorbar": {
              "outlinewidth": 0,
              "ticks": ""
             }
            },
            "type": "scatterpolargl"
           }
          ],
          "scatterternary": [
           {
            "marker": {
             "colorbar": {
              "outlinewidth": 0,
              "ticks": ""
             }
            },
            "type": "scatterternary"
           }
          ],
          "surface": [
           {
            "colorbar": {
             "outlinewidth": 0,
             "ticks": ""
            },
            "colorscale": [
             [
              0,
              "#0d0887"
             ],
             [
              0.1111111111111111,
              "#46039f"
             ],
             [
              0.2222222222222222,
              "#7201a8"
             ],
             [
              0.3333333333333333,
              "#9c179e"
             ],
             [
              0.4444444444444444,
              "#bd3786"
             ],
             [
              0.5555555555555556,
              "#d8576b"
             ],
             [
              0.6666666666666666,
              "#ed7953"
             ],
             [
              0.7777777777777778,
              "#fb9f3a"
             ],
             [
              0.8888888888888888,
              "#fdca26"
             ],
             [
              1,
              "#f0f921"
             ]
            ],
            "type": "surface"
           }
          ],
          "table": [
           {
            "cells": {
             "fill": {
              "color": "#EBF0F8"
             },
             "line": {
              "color": "white"
             }
            },
            "header": {
             "fill": {
              "color": "#C8D4E3"
             },
             "line": {
              "color": "white"
             }
            },
            "type": "table"
           }
          ]
         },
         "layout": {
          "annotationdefaults": {
           "arrowcolor": "#2a3f5f",
           "arrowhead": 0,
           "arrowwidth": 1
          },
          "autotypenumbers": "strict",
          "coloraxis": {
           "colorbar": {
            "outlinewidth": 0,
            "ticks": ""
           }
          },
          "colorscale": {
           "diverging": [
            [
             0,
             "#8e0152"
            ],
            [
             0.1,
             "#c51b7d"
            ],
            [
             0.2,
             "#de77ae"
            ],
            [
             0.3,
             "#f1b6da"
            ],
            [
             0.4,
             "#fde0ef"
            ],
            [
             0.5,
             "#f7f7f7"
            ],
            [
             0.6,
             "#e6f5d0"
            ],
            [
             0.7,
             "#b8e186"
            ],
            [
             0.8,
             "#7fbc41"
            ],
            [
             0.9,
             "#4d9221"
            ],
            [
             1,
             "#276419"
            ]
           ],
           "sequential": [
            [
             0,
             "#0d0887"
            ],
            [
             0.1111111111111111,
             "#46039f"
            ],
            [
             0.2222222222222222,
             "#7201a8"
            ],
            [
             0.3333333333333333,
             "#9c179e"
            ],
            [
             0.4444444444444444,
             "#bd3786"
            ],
            [
             0.5555555555555556,
             "#d8576b"
            ],
            [
             0.6666666666666666,
             "#ed7953"
            ],
            [
             0.7777777777777778,
             "#fb9f3a"
            ],
            [
             0.8888888888888888,
             "#fdca26"
            ],
            [
             1,
             "#f0f921"
            ]
           ],
           "sequentialminus": [
            [
             0,
             "#0d0887"
            ],
            [
             0.1111111111111111,
             "#46039f"
            ],
            [
             0.2222222222222222,
             "#7201a8"
            ],
            [
             0.3333333333333333,
             "#9c179e"
            ],
            [
             0.4444444444444444,
             "#bd3786"
            ],
            [
             0.5555555555555556,
             "#d8576b"
            ],
            [
             0.6666666666666666,
             "#ed7953"
            ],
            [
             0.7777777777777778,
             "#fb9f3a"
            ],
            [
             0.8888888888888888,
             "#fdca26"
            ],
            [
             1,
             "#f0f921"
            ]
           ]
          },
          "colorway": [
           "#636efa",
           "#EF553B",
           "#00cc96",
           "#ab63fa",
           "#FFA15A",
           "#19d3f3",
           "#FF6692",
           "#B6E880",
           "#FF97FF",
           "#FECB52"
          ],
          "font": {
           "color": "#2a3f5f"
          },
          "geo": {
           "bgcolor": "white",
           "lakecolor": "white",
           "landcolor": "#E5ECF6",
           "showlakes": true,
           "showland": true,
           "subunitcolor": "white"
          },
          "hoverlabel": {
           "align": "left"
          },
          "hovermode": "closest",
          "mapbox": {
           "style": "light"
          },
          "paper_bgcolor": "white",
          "plot_bgcolor": "#E5ECF6",
          "polar": {
           "angularaxis": {
            "gridcolor": "white",
            "linecolor": "white",
            "ticks": ""
           },
           "bgcolor": "#E5ECF6",
           "radialaxis": {
            "gridcolor": "white",
            "linecolor": "white",
            "ticks": ""
           }
          },
          "scene": {
           "xaxis": {
            "backgroundcolor": "#E5ECF6",
            "gridcolor": "white",
            "gridwidth": 2,
            "linecolor": "white",
            "showbackground": true,
            "ticks": "",
            "zerolinecolor": "white"
           },
           "yaxis": {
            "backgroundcolor": "#E5ECF6",
            "gridcolor": "white",
            "gridwidth": 2,
            "linecolor": "white",
            "showbackground": true,
            "ticks": "",
            "zerolinecolor": "white"
           },
           "zaxis": {
            "backgroundcolor": "#E5ECF6",
            "gridcolor": "white",
            "gridwidth": 2,
            "linecolor": "white",
            "showbackground": true,
            "ticks": "",
            "zerolinecolor": "white"
           }
          },
          "shapedefaults": {
           "line": {
            "color": "#2a3f5f"
           }
          },
          "ternary": {
           "aaxis": {
            "gridcolor": "white",
            "linecolor": "white",
            "ticks": ""
           },
           "baxis": {
            "gridcolor": "white",
            "linecolor": "white",
            "ticks": ""
           },
           "bgcolor": "#E5ECF6",
           "caxis": {
            "gridcolor": "white",
            "linecolor": "white",
            "ticks": ""
           }
          },
          "title": {
           "x": 0.05
          },
          "xaxis": {
           "automargin": true,
           "gridcolor": "white",
           "linecolor": "white",
           "ticks": "",
           "title": {
            "standoff": 15
           },
           "zerolinecolor": "white",
           "zerolinewidth": 2
          },
          "yaxis": {
           "automargin": true,
           "gridcolor": "white",
           "linecolor": "white",
           "ticks": "",
           "title": {
            "standoff": 15
           },
           "zerolinecolor": "white",
           "zerolinewidth": 2
          }
         }
        },
        "xaxis": {
         "anchor": "y",
         "domain": [
          0,
          1
         ],
         "title": {
          "text": "Month"
         }
        },
        "yaxis": {
         "anchor": "x",
         "domain": [
          0,
          1
         ],
         "title": {
          "text": "Use"
         }
        }
       }
      }
     },
     "metadata": {},
     "output_type": "display_data"
    }
   ],
   "source": [
    "# Using plotly.express\n",
    "fig = px.line(dataset, x='Month', y='Use')\n",
    "fig.show()"
   ]
  },
  {
   "cell_type": "code",
   "execution_count": 12,
   "metadata": {},
   "outputs": [
    {
     "data": {
      "application/vnd.plotly.v1+json": {
       "config": {
        "plotlyServerURL": "https://plot.ly"
       },
       "data": [
        {
         "alignmentgroup": "True",
         "bingroup": "x",
         "hovertemplate": "Use=%{x}<br>count=%{y}<extra></extra>",
         "legendgroup": "",
         "marker": {
          "color": "#636efa",
          "pattern": {
           "shape": ""
          }
         },
         "name": "",
         "offsetgroup": "",
         "orientation": "v",
         "showlegend": false,
         "type": "histogram",
         "x": [
          12748,
          13958,
          12857,
          13486,
          13064,
          13046,
          12460,
          13778,
          12859,
          13091,
          13849,
          13687,
          13855,
          13048,
          13068,
          12187,
          13086,
          13957,
          12576,
          12879,
          12086,
          13958,
          13404,
          13902,
          12595,
          12958,
          13650,
          14038,
          13086,
          13205,
          14038,
          13216,
          13200,
          12549,
          12475,
          12913,
          12687,
          12264,
          13950,
          12960,
          12652,
          12925,
          13472,
          13962,
          13548,
          12288,
          14013,
          14223,
          12514,
          13579,
          13531,
          14385,
          14589,
          12782,
          12405,
          12043,
          13035,
          13469,
          14013,
          14259,
          14269,
          13595,
          12007,
          12159,
          12758,
          13715,
          12939,
          13671,
          13388,
          14149,
          14319,
          14275,
          13377,
          12671,
          13241,
          12628,
          13106,
          12684,
          14255,
          13834,
          13110,
          14480,
          13261,
          14207
         ],
         "xaxis": "x",
         "yaxis": "y"
        },
        {
         "alignmentgroup": "True",
         "hovertemplate": "Use=%{x}<extra></extra>",
         "legendgroup": "",
         "marker": {
          "color": "#636efa"
         },
         "name": "",
         "notched": true,
         "offsetgroup": "",
         "showlegend": false,
         "type": "box",
         "x": [
          12748,
          13958,
          12857,
          13486,
          13064,
          13046,
          12460,
          13778,
          12859,
          13091,
          13849,
          13687,
          13855,
          13048,
          13068,
          12187,
          13086,
          13957,
          12576,
          12879,
          12086,
          13958,
          13404,
          13902,
          12595,
          12958,
          13650,
          14038,
          13086,
          13205,
          14038,
          13216,
          13200,
          12549,
          12475,
          12913,
          12687,
          12264,
          13950,
          12960,
          12652,
          12925,
          13472,
          13962,
          13548,
          12288,
          14013,
          14223,
          12514,
          13579,
          13531,
          14385,
          14589,
          12782,
          12405,
          12043,
          13035,
          13469,
          14013,
          14259,
          14269,
          13595,
          12007,
          12159,
          12758,
          13715,
          12939,
          13671,
          13388,
          14149,
          14319,
          14275,
          13377,
          12671,
          13241,
          12628,
          13106,
          12684,
          14255,
          13834,
          13110,
          14480,
          13261,
          14207
         ],
         "xaxis": "x2",
         "yaxis": "y2"
        }
       ],
       "layout": {
        "barmode": "relative",
        "height": 600,
        "legend": {
         "tracegroupgap": 0
        },
        "margin": {
         "t": 60
        },
        "template": {
         "data": {
          "bar": [
           {
            "error_x": {
             "color": "#2a3f5f"
            },
            "error_y": {
             "color": "#2a3f5f"
            },
            "marker": {
             "line": {
              "color": "#E5ECF6",
              "width": 0.5
             },
             "pattern": {
              "fillmode": "overlay",
              "size": 10,
              "solidity": 0.2
             }
            },
            "type": "bar"
           }
          ],
          "barpolar": [
           {
            "marker": {
             "line": {
              "color": "#E5ECF6",
              "width": 0.5
             },
             "pattern": {
              "fillmode": "overlay",
              "size": 10,
              "solidity": 0.2
             }
            },
            "type": "barpolar"
           }
          ],
          "carpet": [
           {
            "aaxis": {
             "endlinecolor": "#2a3f5f",
             "gridcolor": "white",
             "linecolor": "white",
             "minorgridcolor": "white",
             "startlinecolor": "#2a3f5f"
            },
            "baxis": {
             "endlinecolor": "#2a3f5f",
             "gridcolor": "white",
             "linecolor": "white",
             "minorgridcolor": "white",
             "startlinecolor": "#2a3f5f"
            },
            "type": "carpet"
           }
          ],
          "choropleth": [
           {
            "colorbar": {
             "outlinewidth": 0,
             "ticks": ""
            },
            "type": "choropleth"
           }
          ],
          "contour": [
           {
            "colorbar": {
             "outlinewidth": 0,
             "ticks": ""
            },
            "colorscale": [
             [
              0,
              "#0d0887"
             ],
             [
              0.1111111111111111,
              "#46039f"
             ],
             [
              0.2222222222222222,
              "#7201a8"
             ],
             [
              0.3333333333333333,
              "#9c179e"
             ],
             [
              0.4444444444444444,
              "#bd3786"
             ],
             [
              0.5555555555555556,
              "#d8576b"
             ],
             [
              0.6666666666666666,
              "#ed7953"
             ],
             [
              0.7777777777777778,
              "#fb9f3a"
             ],
             [
              0.8888888888888888,
              "#fdca26"
             ],
             [
              1,
              "#f0f921"
             ]
            ],
            "type": "contour"
           }
          ],
          "contourcarpet": [
           {
            "colorbar": {
             "outlinewidth": 0,
             "ticks": ""
            },
            "type": "contourcarpet"
           }
          ],
          "heatmap": [
           {
            "colorbar": {
             "outlinewidth": 0,
             "ticks": ""
            },
            "colorscale": [
             [
              0,
              "#0d0887"
             ],
             [
              0.1111111111111111,
              "#46039f"
             ],
             [
              0.2222222222222222,
              "#7201a8"
             ],
             [
              0.3333333333333333,
              "#9c179e"
             ],
             [
              0.4444444444444444,
              "#bd3786"
             ],
             [
              0.5555555555555556,
              "#d8576b"
             ],
             [
              0.6666666666666666,
              "#ed7953"
             ],
             [
              0.7777777777777778,
              "#fb9f3a"
             ],
             [
              0.8888888888888888,
              "#fdca26"
             ],
             [
              1,
              "#f0f921"
             ]
            ],
            "type": "heatmap"
           }
          ],
          "heatmapgl": [
           {
            "colorbar": {
             "outlinewidth": 0,
             "ticks": ""
            },
            "colorscale": [
             [
              0,
              "#0d0887"
             ],
             [
              0.1111111111111111,
              "#46039f"
             ],
             [
              0.2222222222222222,
              "#7201a8"
             ],
             [
              0.3333333333333333,
              "#9c179e"
             ],
             [
              0.4444444444444444,
              "#bd3786"
             ],
             [
              0.5555555555555556,
              "#d8576b"
             ],
             [
              0.6666666666666666,
              "#ed7953"
             ],
             [
              0.7777777777777778,
              "#fb9f3a"
             ],
             [
              0.8888888888888888,
              "#fdca26"
             ],
             [
              1,
              "#f0f921"
             ]
            ],
            "type": "heatmapgl"
           }
          ],
          "histogram": [
           {
            "marker": {
             "pattern": {
              "fillmode": "overlay",
              "size": 10,
              "solidity": 0.2
             }
            },
            "type": "histogram"
           }
          ],
          "histogram2d": [
           {
            "colorbar": {
             "outlinewidth": 0,
             "ticks": ""
            },
            "colorscale": [
             [
              0,
              "#0d0887"
             ],
             [
              0.1111111111111111,
              "#46039f"
             ],
             [
              0.2222222222222222,
              "#7201a8"
             ],
             [
              0.3333333333333333,
              "#9c179e"
             ],
             [
              0.4444444444444444,
              "#bd3786"
             ],
             [
              0.5555555555555556,
              "#d8576b"
             ],
             [
              0.6666666666666666,
              "#ed7953"
             ],
             [
              0.7777777777777778,
              "#fb9f3a"
             ],
             [
              0.8888888888888888,
              "#fdca26"
             ],
             [
              1,
              "#f0f921"
             ]
            ],
            "type": "histogram2d"
           }
          ],
          "histogram2dcontour": [
           {
            "colorbar": {
             "outlinewidth": 0,
             "ticks": ""
            },
            "colorscale": [
             [
              0,
              "#0d0887"
             ],
             [
              0.1111111111111111,
              "#46039f"
             ],
             [
              0.2222222222222222,
              "#7201a8"
             ],
             [
              0.3333333333333333,
              "#9c179e"
             ],
             [
              0.4444444444444444,
              "#bd3786"
             ],
             [
              0.5555555555555556,
              "#d8576b"
             ],
             [
              0.6666666666666666,
              "#ed7953"
             ],
             [
              0.7777777777777778,
              "#fb9f3a"
             ],
             [
              0.8888888888888888,
              "#fdca26"
             ],
             [
              1,
              "#f0f921"
             ]
            ],
            "type": "histogram2dcontour"
           }
          ],
          "mesh3d": [
           {
            "colorbar": {
             "outlinewidth": 0,
             "ticks": ""
            },
            "type": "mesh3d"
           }
          ],
          "parcoords": [
           {
            "line": {
             "colorbar": {
              "outlinewidth": 0,
              "ticks": ""
             }
            },
            "type": "parcoords"
           }
          ],
          "pie": [
           {
            "automargin": true,
            "type": "pie"
           }
          ],
          "scatter": [
           {
            "fillpattern": {
             "fillmode": "overlay",
             "size": 10,
             "solidity": 0.2
            },
            "type": "scatter"
           }
          ],
          "scatter3d": [
           {
            "line": {
             "colorbar": {
              "outlinewidth": 0,
              "ticks": ""
             }
            },
            "marker": {
             "colorbar": {
              "outlinewidth": 0,
              "ticks": ""
             }
            },
            "type": "scatter3d"
           }
          ],
          "scattercarpet": [
           {
            "marker": {
             "colorbar": {
              "outlinewidth": 0,
              "ticks": ""
             }
            },
            "type": "scattercarpet"
           }
          ],
          "scattergeo": [
           {
            "marker": {
             "colorbar": {
              "outlinewidth": 0,
              "ticks": ""
             }
            },
            "type": "scattergeo"
           }
          ],
          "scattergl": [
           {
            "marker": {
             "colorbar": {
              "outlinewidth": 0,
              "ticks": ""
             }
            },
            "type": "scattergl"
           }
          ],
          "scattermapbox": [
           {
            "marker": {
             "colorbar": {
              "outlinewidth": 0,
              "ticks": ""
             }
            },
            "type": "scattermapbox"
           }
          ],
          "scatterpolar": [
           {
            "marker": {
             "colorbar": {
              "outlinewidth": 0,
              "ticks": ""
             }
            },
            "type": "scatterpolar"
           }
          ],
          "scatterpolargl": [
           {
            "marker": {
             "colorbar": {
              "outlinewidth": 0,
              "ticks": ""
             }
            },
            "type": "scatterpolargl"
           }
          ],
          "scatterternary": [
           {
            "marker": {
             "colorbar": {
              "outlinewidth": 0,
              "ticks": ""
             }
            },
            "type": "scatterternary"
           }
          ],
          "surface": [
           {
            "colorbar": {
             "outlinewidth": 0,
             "ticks": ""
            },
            "colorscale": [
             [
              0,
              "#0d0887"
             ],
             [
              0.1111111111111111,
              "#46039f"
             ],
             [
              0.2222222222222222,
              "#7201a8"
             ],
             [
              0.3333333333333333,
              "#9c179e"
             ],
             [
              0.4444444444444444,
              "#bd3786"
             ],
             [
              0.5555555555555556,
              "#d8576b"
             ],
             [
              0.6666666666666666,
              "#ed7953"
             ],
             [
              0.7777777777777778,
              "#fb9f3a"
             ],
             [
              0.8888888888888888,
              "#fdca26"
             ],
             [
              1,
              "#f0f921"
             ]
            ],
            "type": "surface"
           }
          ],
          "table": [
           {
            "cells": {
             "fill": {
              "color": "#EBF0F8"
             },
             "line": {
              "color": "white"
             }
            },
            "header": {
             "fill": {
              "color": "#C8D4E3"
             },
             "line": {
              "color": "white"
             }
            },
            "type": "table"
           }
          ]
         },
         "layout": {
          "annotationdefaults": {
           "arrowcolor": "#2a3f5f",
           "arrowhead": 0,
           "arrowwidth": 1
          },
          "autotypenumbers": "strict",
          "coloraxis": {
           "colorbar": {
            "outlinewidth": 0,
            "ticks": ""
           }
          },
          "colorscale": {
           "diverging": [
            [
             0,
             "#8e0152"
            ],
            [
             0.1,
             "#c51b7d"
            ],
            [
             0.2,
             "#de77ae"
            ],
            [
             0.3,
             "#f1b6da"
            ],
            [
             0.4,
             "#fde0ef"
            ],
            [
             0.5,
             "#f7f7f7"
            ],
            [
             0.6,
             "#e6f5d0"
            ],
            [
             0.7,
             "#b8e186"
            ],
            [
             0.8,
             "#7fbc41"
            ],
            [
             0.9,
             "#4d9221"
            ],
            [
             1,
             "#276419"
            ]
           ],
           "sequential": [
            [
             0,
             "#0d0887"
            ],
            [
             0.1111111111111111,
             "#46039f"
            ],
            [
             0.2222222222222222,
             "#7201a8"
            ],
            [
             0.3333333333333333,
             "#9c179e"
            ],
            [
             0.4444444444444444,
             "#bd3786"
            ],
            [
             0.5555555555555556,
             "#d8576b"
            ],
            [
             0.6666666666666666,
             "#ed7953"
            ],
            [
             0.7777777777777778,
             "#fb9f3a"
            ],
            [
             0.8888888888888888,
             "#fdca26"
            ],
            [
             1,
             "#f0f921"
            ]
           ],
           "sequentialminus": [
            [
             0,
             "#0d0887"
            ],
            [
             0.1111111111111111,
             "#46039f"
            ],
            [
             0.2222222222222222,
             "#7201a8"
            ],
            [
             0.3333333333333333,
             "#9c179e"
            ],
            [
             0.4444444444444444,
             "#bd3786"
            ],
            [
             0.5555555555555556,
             "#d8576b"
            ],
            [
             0.6666666666666666,
             "#ed7953"
            ],
            [
             0.7777777777777778,
             "#fb9f3a"
            ],
            [
             0.8888888888888888,
             "#fdca26"
            ],
            [
             1,
             "#f0f921"
            ]
           ]
          },
          "colorway": [
           "#636efa",
           "#EF553B",
           "#00cc96",
           "#ab63fa",
           "#FFA15A",
           "#19d3f3",
           "#FF6692",
           "#B6E880",
           "#FF97FF",
           "#FECB52"
          ],
          "font": {
           "color": "#2a3f5f"
          },
          "geo": {
           "bgcolor": "white",
           "lakecolor": "white",
           "landcolor": "#E5ECF6",
           "showlakes": true,
           "showland": true,
           "subunitcolor": "white"
          },
          "hoverlabel": {
           "align": "left"
          },
          "hovermode": "closest",
          "mapbox": {
           "style": "light"
          },
          "paper_bgcolor": "white",
          "plot_bgcolor": "#E5ECF6",
          "polar": {
           "angularaxis": {
            "gridcolor": "white",
            "linecolor": "white",
            "ticks": ""
           },
           "bgcolor": "#E5ECF6",
           "radialaxis": {
            "gridcolor": "white",
            "linecolor": "white",
            "ticks": ""
           }
          },
          "scene": {
           "xaxis": {
            "backgroundcolor": "#E5ECF6",
            "gridcolor": "white",
            "gridwidth": 2,
            "linecolor": "white",
            "showbackground": true,
            "ticks": "",
            "zerolinecolor": "white"
           },
           "yaxis": {
            "backgroundcolor": "#E5ECF6",
            "gridcolor": "white",
            "gridwidth": 2,
            "linecolor": "white",
            "showbackground": true,
            "ticks": "",
            "zerolinecolor": "white"
           },
           "zaxis": {
            "backgroundcolor": "#E5ECF6",
            "gridcolor": "white",
            "gridwidth": 2,
            "linecolor": "white",
            "showbackground": true,
            "ticks": "",
            "zerolinecolor": "white"
           }
          },
          "shapedefaults": {
           "line": {
            "color": "#2a3f5f"
           }
          },
          "ternary": {
           "aaxis": {
            "gridcolor": "white",
            "linecolor": "white",
            "ticks": ""
           },
           "baxis": {
            "gridcolor": "white",
            "linecolor": "white",
            "ticks": ""
           },
           "bgcolor": "#E5ECF6",
           "caxis": {
            "gridcolor": "white",
            "linecolor": "white",
            "ticks": ""
           }
          },
          "title": {
           "x": 0.05
          },
          "xaxis": {
           "automargin": true,
           "gridcolor": "white",
           "linecolor": "white",
           "ticks": "",
           "title": {
            "standoff": 15
           },
           "zerolinecolor": "white",
           "zerolinewidth": 2
          },
          "yaxis": {
           "automargin": true,
           "gridcolor": "white",
           "linecolor": "white",
           "ticks": "",
           "title": {
            "standoff": 15
           },
           "zerolinecolor": "white",
           "zerolinewidth": 2
          }
         }
        },
        "width": 700,
        "xaxis": {
         "anchor": "y",
         "domain": [
          0,
          1
         ],
         "title": {
          "text": "Use"
         }
        },
        "xaxis2": {
         "anchor": "y2",
         "domain": [
          0,
          1
         ],
         "matches": "x",
         "showgrid": true,
         "showticklabels": false
        },
        "yaxis": {
         "anchor": "x",
         "domain": [
          0,
          0.8316
         ],
         "title": {
          "text": "count"
         }
        },
        "yaxis2": {
         "anchor": "x2",
         "domain": [
          0.8416,
          1
         ],
         "matches": "y2",
         "showgrid": false,
         "showline": false,
         "showticklabels": false,
         "ticks": ""
        }
       }
      }
     },
     "metadata": {},
     "output_type": "display_data"
    }
   ],
   "source": [
    "# Data distribution\n",
    "fig = px.histogram(dataset, x='Use', marginal=\"box\", width=700, height=600)\n",
    "fig.show()"
   ]
  },
  {
   "cell_type": "markdown",
   "metadata": {},
   "source": [
    "# Data Preprocessing"
   ]
  },
  {
   "cell_type": "code",
   "execution_count": 13,
   "metadata": {},
   "outputs": [
    {
     "data": {
      "text/html": [
       "<div>\n",
       "<style scoped>\n",
       "    .dataframe tbody tr th:only-of-type {\n",
       "        vertical-align: middle;\n",
       "    }\n",
       "\n",
       "    .dataframe tbody tr th {\n",
       "        vertical-align: top;\n",
       "    }\n",
       "\n",
       "    .dataframe thead th {\n",
       "        text-align: right;\n",
       "    }\n",
       "</style>\n",
       "<table border=\"1\" class=\"dataframe\">\n",
       "  <thead>\n",
       "    <tr style=\"text-align: right;\">\n",
       "      <th></th>\n",
       "      <th>Use</th>\n",
       "    </tr>\n",
       "    <tr>\n",
       "      <th>Month</th>\n",
       "      <th></th>\n",
       "    </tr>\n",
       "  </thead>\n",
       "  <tbody>\n",
       "    <tr>\n",
       "      <th>2015-01-01</th>\n",
       "      <td>12748</td>\n",
       "    </tr>\n",
       "    <tr>\n",
       "      <th>2015-02-01</th>\n",
       "      <td>13958</td>\n",
       "    </tr>\n",
       "    <tr>\n",
       "      <th>2015-03-01</th>\n",
       "      <td>12857</td>\n",
       "    </tr>\n",
       "    <tr>\n",
       "      <th>2015-04-01</th>\n",
       "      <td>13486</td>\n",
       "    </tr>\n",
       "    <tr>\n",
       "      <th>2015-05-01</th>\n",
       "      <td>13064</td>\n",
       "    </tr>\n",
       "  </tbody>\n",
       "</table>\n",
       "</div>"
      ],
      "text/plain": [
       "              Use\n",
       "Month            \n",
       "2015-01-01  12748\n",
       "2015-02-01  13958\n",
       "2015-03-01  12857\n",
       "2015-04-01  13486\n",
       "2015-05-01  13064"
      ]
     },
     "execution_count": 13,
     "metadata": {},
     "output_type": "execute_result"
    }
   ],
   "source": [
    "dataset.index = pd.to_datetime(dataset['Month'])\n",
    "\n",
    "dataset.drop('Month', axis=1, inplace=True)\n",
    "\n",
    "dataset.head()"
   ]
  },
  {
   "cell_type": "code",
   "execution_count": 14,
   "metadata": {},
   "outputs": [
    {
     "data": {
      "text/html": [
       "<div>\n",
       "<style scoped>\n",
       "    .dataframe tbody tr th:only-of-type {\n",
       "        vertical-align: middle;\n",
       "    }\n",
       "\n",
       "    .dataframe tbody tr th {\n",
       "        vertical-align: top;\n",
       "    }\n",
       "\n",
       "    .dataframe thead th {\n",
       "        text-align: right;\n",
       "    }\n",
       "</style>\n",
       "<table border=\"1\" class=\"dataframe\">\n",
       "  <thead>\n",
       "    <tr style=\"text-align: right;\">\n",
       "      <th></th>\n",
       "      <th>Use</th>\n",
       "    </tr>\n",
       "    <tr>\n",
       "      <th>Month</th>\n",
       "      <th></th>\n",
       "    </tr>\n",
       "  </thead>\n",
       "  <tbody>\n",
       "    <tr>\n",
       "      <th>2015-01-01</th>\n",
       "      <td>0.286987</td>\n",
       "    </tr>\n",
       "    <tr>\n",
       "      <th>2015-02-01</th>\n",
       "      <td>0.755616</td>\n",
       "    </tr>\n",
       "    <tr>\n",
       "      <th>2015-03-01</th>\n",
       "      <td>0.329202</td>\n",
       "    </tr>\n",
       "    <tr>\n",
       "      <th>2015-04-01</th>\n",
       "      <td>0.572812</td>\n",
       "    </tr>\n",
       "    <tr>\n",
       "      <th>2015-05-01</th>\n",
       "      <td>0.409373</td>\n",
       "    </tr>\n",
       "  </tbody>\n",
       "</table>\n",
       "</div>"
      ],
      "text/plain": [
       "                 Use\n",
       "Month               \n",
       "2015-01-01  0.286987\n",
       "2015-02-01  0.755616\n",
       "2015-03-01  0.329202\n",
       "2015-04-01  0.572812\n",
       "2015-05-01  0.409373"
      ]
     },
     "execution_count": 14,
     "metadata": {},
     "output_type": "execute_result"
    }
   ],
   "source": [
    "# MinMaxScaler Normalization\n",
    "\n",
    "scaler = MinMaxScaler(feature_range=(0, 1))\n",
    "dataset[['Use']] = scaler.fit_transform(dataset[['Use']])\n",
    "\n",
    "dataset.head()"
   ]
  },
  {
   "cell_type": "code",
   "execution_count": 15,
   "metadata": {},
   "outputs": [
    {
     "data": {
      "application/vnd.plotly.v1+json": {
       "config": {
        "plotlyServerURL": "https://plot.ly"
       },
       "data": [
        {
         "hovertemplate": "Month=%{x}<br>Use=%{y}<extra></extra>",
         "legendgroup": "",
         "line": {
          "color": "#636efa",
          "dash": "solid"
         },
         "marker": {
          "symbol": "circle"
         },
         "mode": "lines",
         "name": "",
         "orientation": "v",
         "showlegend": false,
         "type": "scatter",
         "x": [
          "2015-01-01T00:00:00",
          "2015-02-01T00:00:00",
          "2015-03-01T00:00:00",
          "2015-04-01T00:00:00",
          "2015-05-01T00:00:00",
          "2015-06-01T00:00:00",
          "2015-07-01T00:00:00",
          "2015-08-01T00:00:00",
          "2015-09-01T00:00:00",
          "2015-10-01T00:00:00",
          "2015-11-01T00:00:00",
          "2015-12-01T00:00:00",
          "2016-01-01T00:00:00",
          "2016-02-01T00:00:00",
          "2016-03-01T00:00:00",
          "2016-04-01T00:00:00",
          "2016-05-01T00:00:00",
          "2016-06-01T00:00:00",
          "2016-07-01T00:00:00",
          "2016-08-01T00:00:00",
          "2016-09-01T00:00:00",
          "2016-10-01T00:00:00",
          "2016-11-01T00:00:00",
          "2016-12-01T00:00:00",
          "2017-01-01T00:00:00",
          "2017-02-01T00:00:00",
          "2017-03-01T00:00:00",
          "2017-04-01T00:00:00",
          "2017-05-01T00:00:00",
          "2017-06-01T00:00:00",
          "2017-07-01T00:00:00",
          "2017-08-01T00:00:00",
          "2017-09-01T00:00:00",
          "2017-10-01T00:00:00",
          "2017-11-01T00:00:00",
          "2017-12-01T00:00:00",
          "2018-01-01T00:00:00",
          "2018-02-01T00:00:00",
          "2018-03-01T00:00:00",
          "2018-04-01T00:00:00",
          "2018-05-01T00:00:00",
          "2018-06-01T00:00:00",
          "2018-07-01T00:00:00",
          "2018-08-01T00:00:00",
          "2018-09-01T00:00:00",
          "2018-10-01T00:00:00",
          "2018-11-01T00:00:00",
          "2018-12-01T00:00:00",
          "2019-01-01T00:00:00",
          "2019-02-01T00:00:00",
          "2019-03-01T00:00:00",
          "2019-04-01T00:00:00",
          "2019-05-01T00:00:00",
          "2019-06-01T00:00:00",
          "2019-07-01T00:00:00",
          "2019-08-01T00:00:00",
          "2019-09-01T00:00:00",
          "2019-10-01T00:00:00",
          "2019-11-01T00:00:00",
          "2019-12-01T00:00:00",
          "2020-01-01T00:00:00",
          "2020-02-01T00:00:00",
          "2020-03-01T00:00:00",
          "2020-04-01T00:00:00",
          "2020-05-01T00:00:00",
          "2020-06-01T00:00:00",
          "2020-07-01T00:00:00",
          "2020-08-01T00:00:00",
          "2020-09-01T00:00:00",
          "2020-10-01T00:00:00",
          "2020-11-01T00:00:00",
          "2020-12-01T00:00:00",
          "2021-01-01T00:00:00",
          "2021-02-01T00:00:00",
          "2021-03-01T00:00:00",
          "2021-04-01T00:00:00",
          "2021-05-01T00:00:00",
          "2021-06-01T00:00:00",
          "2021-07-01T00:00:00",
          "2021-08-01T00:00:00",
          "2021-09-01T00:00:00",
          "2021-10-01T00:00:00",
          "2021-11-01T00:00:00",
          "2021-12-01T00:00:00"
         ],
         "xaxis": "x",
         "y": [
          0.2869868319132456,
          0.7556158017041055,
          0.32920216886134757,
          0.5728117738187457,
          0.40937257939581695,
          0.40240123934934147,
          0.1754453911696361,
          0.6859024012393498,
          0.32997676219984484,
          0.4198295894655306,
          0.7134004647560035,
          0.6506584043377233,
          0.7157242447714953,
          0.40317583268783874,
          0.4109217660728124,
          0.0697134004647566,
          0.41789310611928787,
          0.7552285050348573,
          0.22037180480247898,
          0.3377226955848185,
          0.03059643687064284,
          0.7556158017041055,
          0.5410534469403565,
          0.7339271882261817,
          0.22773044151820354,
          0.36831913245546133,
          0.6363284275755232,
          0.7865995352439974,
          0.41789310611928787,
          0.46398140975987623,
          0.7865995352439974,
          0.4682416731216117,
          0.4620449264136326,
          0.2099147947327653,
          0.1812548412083661,
          0.3508907823392722,
          0.26336173508907823,
          0.09953524399690217,
          0.7525174283501164,
          0.3690937257939586,
          0.24980635166537546,
          0.35553834237025583,
          0.5673896204492639,
          0.7571649883811,
          0.5968241673121613,
          0.10883036405886948,
          0.776917118512781,
          0.8582494190549967,
          0.19635941130906254,
          0.6088303640588695,
          0.590240123934934,
          0.920991479473277,
          1,
          0.3001549186676993,
          0.15414407436096056,
          0.013942680092950965,
          0.3981409759876069,
          0.5662277304415184,
          0.776917118512781,
          0.8721920991479477,
          0.8760650658404341,
          0.6150271107668477,
          0,
          0.05886909372579385,
          0.29085979860573197,
          0.6615027110766851,
          0.36096049573973676,
          0.6444616576297442,
          0.5348567002323783,
          0.8295894655305966,
          0.895429899302866,
          0.8783888458559259,
          0.5305964368706428,
          0.2571649883811,
          0.4779240898528272,
          0.24051123160340815,
          0.42563903950426063,
          0.26219984508133276,
          0.8706429124709532,
          0.7075910147172735,
          0.4271882261812552,
          0.957784663051898,
          0.48567002323779995,
          0.8520526723470176
         ],
         "yaxis": "y"
        }
       ],
       "layout": {
        "legend": {
         "tracegroupgap": 0
        },
        "margin": {
         "t": 60
        },
        "template": {
         "data": {
          "bar": [
           {
            "error_x": {
             "color": "#2a3f5f"
            },
            "error_y": {
             "color": "#2a3f5f"
            },
            "marker": {
             "line": {
              "color": "#E5ECF6",
              "width": 0.5
             },
             "pattern": {
              "fillmode": "overlay",
              "size": 10,
              "solidity": 0.2
             }
            },
            "type": "bar"
           }
          ],
          "barpolar": [
           {
            "marker": {
             "line": {
              "color": "#E5ECF6",
              "width": 0.5
             },
             "pattern": {
              "fillmode": "overlay",
              "size": 10,
              "solidity": 0.2
             }
            },
            "type": "barpolar"
           }
          ],
          "carpet": [
           {
            "aaxis": {
             "endlinecolor": "#2a3f5f",
             "gridcolor": "white",
             "linecolor": "white",
             "minorgridcolor": "white",
             "startlinecolor": "#2a3f5f"
            },
            "baxis": {
             "endlinecolor": "#2a3f5f",
             "gridcolor": "white",
             "linecolor": "white",
             "minorgridcolor": "white",
             "startlinecolor": "#2a3f5f"
            },
            "type": "carpet"
           }
          ],
          "choropleth": [
           {
            "colorbar": {
             "outlinewidth": 0,
             "ticks": ""
            },
            "type": "choropleth"
           }
          ],
          "contour": [
           {
            "colorbar": {
             "outlinewidth": 0,
             "ticks": ""
            },
            "colorscale": [
             [
              0,
              "#0d0887"
             ],
             [
              0.1111111111111111,
              "#46039f"
             ],
             [
              0.2222222222222222,
              "#7201a8"
             ],
             [
              0.3333333333333333,
              "#9c179e"
             ],
             [
              0.4444444444444444,
              "#bd3786"
             ],
             [
              0.5555555555555556,
              "#d8576b"
             ],
             [
              0.6666666666666666,
              "#ed7953"
             ],
             [
              0.7777777777777778,
              "#fb9f3a"
             ],
             [
              0.8888888888888888,
              "#fdca26"
             ],
             [
              1,
              "#f0f921"
             ]
            ],
            "type": "contour"
           }
          ],
          "contourcarpet": [
           {
            "colorbar": {
             "outlinewidth": 0,
             "ticks": ""
            },
            "type": "contourcarpet"
           }
          ],
          "heatmap": [
           {
            "colorbar": {
             "outlinewidth": 0,
             "ticks": ""
            },
            "colorscale": [
             [
              0,
              "#0d0887"
             ],
             [
              0.1111111111111111,
              "#46039f"
             ],
             [
              0.2222222222222222,
              "#7201a8"
             ],
             [
              0.3333333333333333,
              "#9c179e"
             ],
             [
              0.4444444444444444,
              "#bd3786"
             ],
             [
              0.5555555555555556,
              "#d8576b"
             ],
             [
              0.6666666666666666,
              "#ed7953"
             ],
             [
              0.7777777777777778,
              "#fb9f3a"
             ],
             [
              0.8888888888888888,
              "#fdca26"
             ],
             [
              1,
              "#f0f921"
             ]
            ],
            "type": "heatmap"
           }
          ],
          "heatmapgl": [
           {
            "colorbar": {
             "outlinewidth": 0,
             "ticks": ""
            },
            "colorscale": [
             [
              0,
              "#0d0887"
             ],
             [
              0.1111111111111111,
              "#46039f"
             ],
             [
              0.2222222222222222,
              "#7201a8"
             ],
             [
              0.3333333333333333,
              "#9c179e"
             ],
             [
              0.4444444444444444,
              "#bd3786"
             ],
             [
              0.5555555555555556,
              "#d8576b"
             ],
             [
              0.6666666666666666,
              "#ed7953"
             ],
             [
              0.7777777777777778,
              "#fb9f3a"
             ],
             [
              0.8888888888888888,
              "#fdca26"
             ],
             [
              1,
              "#f0f921"
             ]
            ],
            "type": "heatmapgl"
           }
          ],
          "histogram": [
           {
            "marker": {
             "pattern": {
              "fillmode": "overlay",
              "size": 10,
              "solidity": 0.2
             }
            },
            "type": "histogram"
           }
          ],
          "histogram2d": [
           {
            "colorbar": {
             "outlinewidth": 0,
             "ticks": ""
            },
            "colorscale": [
             [
              0,
              "#0d0887"
             ],
             [
              0.1111111111111111,
              "#46039f"
             ],
             [
              0.2222222222222222,
              "#7201a8"
             ],
             [
              0.3333333333333333,
              "#9c179e"
             ],
             [
              0.4444444444444444,
              "#bd3786"
             ],
             [
              0.5555555555555556,
              "#d8576b"
             ],
             [
              0.6666666666666666,
              "#ed7953"
             ],
             [
              0.7777777777777778,
              "#fb9f3a"
             ],
             [
              0.8888888888888888,
              "#fdca26"
             ],
             [
              1,
              "#f0f921"
             ]
            ],
            "type": "histogram2d"
           }
          ],
          "histogram2dcontour": [
           {
            "colorbar": {
             "outlinewidth": 0,
             "ticks": ""
            },
            "colorscale": [
             [
              0,
              "#0d0887"
             ],
             [
              0.1111111111111111,
              "#46039f"
             ],
             [
              0.2222222222222222,
              "#7201a8"
             ],
             [
              0.3333333333333333,
              "#9c179e"
             ],
             [
              0.4444444444444444,
              "#bd3786"
             ],
             [
              0.5555555555555556,
              "#d8576b"
             ],
             [
              0.6666666666666666,
              "#ed7953"
             ],
             [
              0.7777777777777778,
              "#fb9f3a"
             ],
             [
              0.8888888888888888,
              "#fdca26"
             ],
             [
              1,
              "#f0f921"
             ]
            ],
            "type": "histogram2dcontour"
           }
          ],
          "mesh3d": [
           {
            "colorbar": {
             "outlinewidth": 0,
             "ticks": ""
            },
            "type": "mesh3d"
           }
          ],
          "parcoords": [
           {
            "line": {
             "colorbar": {
              "outlinewidth": 0,
              "ticks": ""
             }
            },
            "type": "parcoords"
           }
          ],
          "pie": [
           {
            "automargin": true,
            "type": "pie"
           }
          ],
          "scatter": [
           {
            "fillpattern": {
             "fillmode": "overlay",
             "size": 10,
             "solidity": 0.2
            },
            "type": "scatter"
           }
          ],
          "scatter3d": [
           {
            "line": {
             "colorbar": {
              "outlinewidth": 0,
              "ticks": ""
             }
            },
            "marker": {
             "colorbar": {
              "outlinewidth": 0,
              "ticks": ""
             }
            },
            "type": "scatter3d"
           }
          ],
          "scattercarpet": [
           {
            "marker": {
             "colorbar": {
              "outlinewidth": 0,
              "ticks": ""
             }
            },
            "type": "scattercarpet"
           }
          ],
          "scattergeo": [
           {
            "marker": {
             "colorbar": {
              "outlinewidth": 0,
              "ticks": ""
             }
            },
            "type": "scattergeo"
           }
          ],
          "scattergl": [
           {
            "marker": {
             "colorbar": {
              "outlinewidth": 0,
              "ticks": ""
             }
            },
            "type": "scattergl"
           }
          ],
          "scattermapbox": [
           {
            "marker": {
             "colorbar": {
              "outlinewidth": 0,
              "ticks": ""
             }
            },
            "type": "scattermapbox"
           }
          ],
          "scatterpolar": [
           {
            "marker": {
             "colorbar": {
              "outlinewidth": 0,
              "ticks": ""
             }
            },
            "type": "scatterpolar"
           }
          ],
          "scatterpolargl": [
           {
            "marker": {
             "colorbar": {
              "outlinewidth": 0,
              "ticks": ""
             }
            },
            "type": "scatterpolargl"
           }
          ],
          "scatterternary": [
           {
            "marker": {
             "colorbar": {
              "outlinewidth": 0,
              "ticks": ""
             }
            },
            "type": "scatterternary"
           }
          ],
          "surface": [
           {
            "colorbar": {
             "outlinewidth": 0,
             "ticks": ""
            },
            "colorscale": [
             [
              0,
              "#0d0887"
             ],
             [
              0.1111111111111111,
              "#46039f"
             ],
             [
              0.2222222222222222,
              "#7201a8"
             ],
             [
              0.3333333333333333,
              "#9c179e"
             ],
             [
              0.4444444444444444,
              "#bd3786"
             ],
             [
              0.5555555555555556,
              "#d8576b"
             ],
             [
              0.6666666666666666,
              "#ed7953"
             ],
             [
              0.7777777777777778,
              "#fb9f3a"
             ],
             [
              0.8888888888888888,
              "#fdca26"
             ],
             [
              1,
              "#f0f921"
             ]
            ],
            "type": "surface"
           }
          ],
          "table": [
           {
            "cells": {
             "fill": {
              "color": "#EBF0F8"
             },
             "line": {
              "color": "white"
             }
            },
            "header": {
             "fill": {
              "color": "#C8D4E3"
             },
             "line": {
              "color": "white"
             }
            },
            "type": "table"
           }
          ]
         },
         "layout": {
          "annotationdefaults": {
           "arrowcolor": "#2a3f5f",
           "arrowhead": 0,
           "arrowwidth": 1
          },
          "autotypenumbers": "strict",
          "coloraxis": {
           "colorbar": {
            "outlinewidth": 0,
            "ticks": ""
           }
          },
          "colorscale": {
           "diverging": [
            [
             0,
             "#8e0152"
            ],
            [
             0.1,
             "#c51b7d"
            ],
            [
             0.2,
             "#de77ae"
            ],
            [
             0.3,
             "#f1b6da"
            ],
            [
             0.4,
             "#fde0ef"
            ],
            [
             0.5,
             "#f7f7f7"
            ],
            [
             0.6,
             "#e6f5d0"
            ],
            [
             0.7,
             "#b8e186"
            ],
            [
             0.8,
             "#7fbc41"
            ],
            [
             0.9,
             "#4d9221"
            ],
            [
             1,
             "#276419"
            ]
           ],
           "sequential": [
            [
             0,
             "#0d0887"
            ],
            [
             0.1111111111111111,
             "#46039f"
            ],
            [
             0.2222222222222222,
             "#7201a8"
            ],
            [
             0.3333333333333333,
             "#9c179e"
            ],
            [
             0.4444444444444444,
             "#bd3786"
            ],
            [
             0.5555555555555556,
             "#d8576b"
            ],
            [
             0.6666666666666666,
             "#ed7953"
            ],
            [
             0.7777777777777778,
             "#fb9f3a"
            ],
            [
             0.8888888888888888,
             "#fdca26"
            ],
            [
             1,
             "#f0f921"
            ]
           ],
           "sequentialminus": [
            [
             0,
             "#0d0887"
            ],
            [
             0.1111111111111111,
             "#46039f"
            ],
            [
             0.2222222222222222,
             "#7201a8"
            ],
            [
             0.3333333333333333,
             "#9c179e"
            ],
            [
             0.4444444444444444,
             "#bd3786"
            ],
            [
             0.5555555555555556,
             "#d8576b"
            ],
            [
             0.6666666666666666,
             "#ed7953"
            ],
            [
             0.7777777777777778,
             "#fb9f3a"
            ],
            [
             0.8888888888888888,
             "#fdca26"
            ],
            [
             1,
             "#f0f921"
            ]
           ]
          },
          "colorway": [
           "#636efa",
           "#EF553B",
           "#00cc96",
           "#ab63fa",
           "#FFA15A",
           "#19d3f3",
           "#FF6692",
           "#B6E880",
           "#FF97FF",
           "#FECB52"
          ],
          "font": {
           "color": "#2a3f5f"
          },
          "geo": {
           "bgcolor": "white",
           "lakecolor": "white",
           "landcolor": "#E5ECF6",
           "showlakes": true,
           "showland": true,
           "subunitcolor": "white"
          },
          "hoverlabel": {
           "align": "left"
          },
          "hovermode": "closest",
          "mapbox": {
           "style": "light"
          },
          "paper_bgcolor": "white",
          "plot_bgcolor": "#E5ECF6",
          "polar": {
           "angularaxis": {
            "gridcolor": "white",
            "linecolor": "white",
            "ticks": ""
           },
           "bgcolor": "#E5ECF6",
           "radialaxis": {
            "gridcolor": "white",
            "linecolor": "white",
            "ticks": ""
           }
          },
          "scene": {
           "xaxis": {
            "backgroundcolor": "#E5ECF6",
            "gridcolor": "white",
            "gridwidth": 2,
            "linecolor": "white",
            "showbackground": true,
            "ticks": "",
            "zerolinecolor": "white"
           },
           "yaxis": {
            "backgroundcolor": "#E5ECF6",
            "gridcolor": "white",
            "gridwidth": 2,
            "linecolor": "white",
            "showbackground": true,
            "ticks": "",
            "zerolinecolor": "white"
           },
           "zaxis": {
            "backgroundcolor": "#E5ECF6",
            "gridcolor": "white",
            "gridwidth": 2,
            "linecolor": "white",
            "showbackground": true,
            "ticks": "",
            "zerolinecolor": "white"
           }
          },
          "shapedefaults": {
           "line": {
            "color": "#2a3f5f"
           }
          },
          "ternary": {
           "aaxis": {
            "gridcolor": "white",
            "linecolor": "white",
            "ticks": ""
           },
           "baxis": {
            "gridcolor": "white",
            "linecolor": "white",
            "ticks": ""
           },
           "bgcolor": "#E5ECF6",
           "caxis": {
            "gridcolor": "white",
            "linecolor": "white",
            "ticks": ""
           }
          },
          "title": {
           "x": 0.05
          },
          "xaxis": {
           "automargin": true,
           "gridcolor": "white",
           "linecolor": "white",
           "ticks": "",
           "title": {
            "standoff": 15
           },
           "zerolinecolor": "white",
           "zerolinewidth": 2
          },
          "yaxis": {
           "automargin": true,
           "gridcolor": "white",
           "linecolor": "white",
           "ticks": "",
           "title": {
            "standoff": 15
           },
           "zerolinecolor": "white",
           "zerolinewidth": 2
          }
         }
        },
        "xaxis": {
         "anchor": "y",
         "domain": [
          0,
          1
         ],
         "title": {
          "text": "Month"
         }
        },
        "yaxis": {
         "anchor": "x",
         "domain": [
          0,
          1
         ],
         "title": {
          "text": "Use"
         }
        }
       }
      }
     },
     "metadata": {},
     "output_type": "display_data"
    }
   ],
   "source": [
    "# Using plotly.express\n",
    "\n",
    "fig = px.line(dataset, x=dataset.index, y='Use')\n",
    "fig.show()"
   ]
  },
  {
   "cell_type": "code",
   "execution_count": 16,
   "metadata": {},
   "outputs": [],
   "source": [
    "# Splitting data\n",
    "split_time = int(0.8*84) #Training 80% of total index\n",
    "\n",
    "time_train = dataset.index[:split_time]\n",
    "time_valid =  dataset.index[split_time:]\n",
    "\n",
    "#Paracetamol\n",
    "x_train =  dataset['Use'][:split_time]\n",
    "x_valid =  dataset['Use'][split_time:]"
   ]
  },
  {
   "cell_type": "code",
   "execution_count": 17,
   "metadata": {},
   "outputs": [
    {
     "name": "stdout",
     "output_type": "stream",
     "text": [
      "DatetimeIndex(['2015-01-01', '2015-02-01', '2015-03-01', '2015-04-01',\n",
      "               '2015-05-01', '2015-06-01', '2015-07-01', '2015-08-01',\n",
      "               '2015-09-01', '2015-10-01', '2015-11-01', '2015-12-01',\n",
      "               '2016-01-01', '2016-02-01', '2016-03-01', '2016-04-01',\n",
      "               '2016-05-01', '2016-06-01', '2016-07-01', '2016-08-01',\n",
      "               '2016-09-01', '2016-10-01', '2016-11-01', '2016-12-01',\n",
      "               '2017-01-01', '2017-02-01', '2017-03-01', '2017-04-01',\n",
      "               '2017-05-01', '2017-06-01', '2017-07-01', '2017-08-01',\n",
      "               '2017-09-01', '2017-10-01', '2017-11-01', '2017-12-01',\n",
      "               '2018-01-01', '2018-02-01', '2018-03-01', '2018-04-01',\n",
      "               '2018-05-01', '2018-06-01', '2018-07-01', '2018-08-01',\n",
      "               '2018-09-01', '2018-10-01', '2018-11-01', '2018-12-01',\n",
      "               '2019-01-01', '2019-02-01', '2019-03-01', '2019-04-01',\n",
      "               '2019-05-01', '2019-06-01', '2019-07-01', '2019-08-01',\n",
      "               '2019-09-01', '2019-10-01', '2019-11-01', '2019-12-01',\n",
      "               '2020-01-01', '2020-02-01', '2020-03-01', '2020-04-01',\n",
      "               '2020-05-01', '2020-06-01', '2020-07-01'],\n",
      "              dtype='datetime64[ns]', name='Month', freq=None) Month\n",
      "2015-01-01    0.286987\n",
      "2015-02-01    0.755616\n",
      "2015-03-01    0.329202\n",
      "2015-04-01    0.572812\n",
      "2015-05-01    0.409373\n",
      "                ...   \n",
      "2020-03-01    0.000000\n",
      "2020-04-01    0.058869\n",
      "2020-05-01    0.290860\n",
      "2020-06-01    0.661503\n",
      "2020-07-01    0.360960\n",
      "Name: Use, Length: 67, dtype: float64 DatetimeIndex(['2020-08-01', '2020-09-01', '2020-10-01', '2020-11-01',\n",
      "               '2020-12-01', '2021-01-01', '2021-02-01', '2021-03-01',\n",
      "               '2021-04-01', '2021-05-01', '2021-06-01', '2021-07-01',\n",
      "               '2021-08-01', '2021-09-01', '2021-10-01', '2021-11-01',\n",
      "               '2021-12-01'],\n",
      "              dtype='datetime64[ns]', name='Month', freq=None) Month\n",
      "2020-08-01    0.644462\n",
      "2020-09-01    0.534857\n",
      "2020-10-01    0.829589\n",
      "2020-11-01    0.895430\n",
      "2020-12-01    0.878389\n",
      "2021-01-01    0.530596\n",
      "2021-02-01    0.257165\n",
      "2021-03-01    0.477924\n",
      "2021-04-01    0.240511\n",
      "2021-05-01    0.425639\n",
      "2021-06-01    0.262200\n",
      "2021-07-01    0.870643\n",
      "2021-08-01    0.707591\n",
      "2021-09-01    0.427188\n",
      "2021-10-01    0.957785\n",
      "2021-11-01    0.485670\n",
      "2021-12-01    0.852053\n",
      "Name: Use, dtype: float64\n"
     ]
    }
   ],
   "source": [
    "# Checking data train\n",
    "print(time_train, x_train, time_valid, x_valid)"
   ]
  },
  {
   "cell_type": "code",
   "execution_count": 18,
   "metadata": {},
   "outputs": [],
   "source": [
    "# Library tensoflow and keras\n",
    "import tensorflow as tf\n",
    "from keras.models import Sequential\n",
    "from keras.models import model_from_yaml\n",
    "from keras.layers import Dense\n",
    "from keras.utils import plot_model"
   ]
  },
  {
   "cell_type": "code",
   "execution_count": 19,
   "metadata": {},
   "outputs": [],
   "source": [
    "def windowed_dataset(series, window_size, batch_size, shuffle_buffer):\n",
    "    series = tf.expand_dims(series, axis=-1)\n",
    "    ds = tf.data.Dataset.from_tensor_slices(series)\n",
    "    ds = ds.window(window_size + 1, shift=1, drop_remainder=True)\n",
    "    ds = ds.flat_map(lambda w: w.batch(window_size + 1))\n",
    "    ds = ds.shuffle(shuffle_buffer)\n",
    "    ds = ds.map(lambda w: (w[:-1], w[1:]))\n",
    "    return ds.batch(batch_size).prefetch(1)"
   ]
  },
  {
   "cell_type": "code",
   "execution_count": 20,
   "metadata": {},
   "outputs": [],
   "source": [
    "window_size = 2\n",
    "batch_size = 6\n",
    "shuffle_buffer_size = 12\n",
    "\n",
    "#Paracetamol\n",
    "train_set = windowed_dataset(x_train, window_size, batch_size, shuffle_buffer_size)\n",
    "valid_set = windowed_dataset(x_valid, window_size, batch_size, shuffle_buffer_size)"
   ]
  },
  {
   "cell_type": "markdown",
   "metadata": {},
   "source": [
    "# Modelling"
   ]
  },
  {
   "cell_type": "markdown",
   "metadata": {},
   "source": [
    "## Modelling Paracetamol"
   ]
  },
  {
   "cell_type": "code",
   "execution_count": 21,
   "metadata": {},
   "outputs": [],
   "source": [
    "model_paracetamol = Sequential()\n",
    "model_paracetamol.add(Dense(12, input_shape=[1, 1]))\n",
    "model_paracetamol.add(Dense(6))\n",
    "model_paracetamol.add(Dense(1))"
   ]
  },
  {
   "cell_type": "code",
   "execution_count": 22,
   "metadata": {},
   "outputs": [],
   "source": [
    "model_paracetamol.compile(optimizer=tf.keras.optimizers.SGD(learning_rate=0.01, momentum=0.9),metrics=['mape'],loss='mse')"
   ]
  },
  {
   "cell_type": "code",
   "execution_count": 23,
   "metadata": {},
   "outputs": [
    {
     "name": "stdout",
     "output_type": "stream",
     "text": [
      "Model: \"sequential\"\n",
      "_________________________________________________________________\n",
      " Layer (type)                Output Shape              Param #   \n",
      "=================================================================\n",
      " dense (Dense)               (None, 1, 12)             24        \n",
      "                                                                 \n",
      " dense_1 (Dense)             (None, 1, 6)              78        \n",
      "                                                                 \n",
      " dense_2 (Dense)             (None, 1, 1)              7         \n",
      "                                                                 \n",
      "=================================================================\n",
      "Total params: 109\n",
      "Trainable params: 109\n",
      "Non-trainable params: 0\n",
      "_________________________________________________________________\n"
     ]
    }
   ],
   "source": [
    "model_paracetamol.build()\n",
    "model_paracetamol.summary()"
   ]
  },
  {
   "cell_type": "code",
   "execution_count": 24,
   "metadata": {},
   "outputs": [
    {
     "name": "stdout",
     "output_type": "stream",
     "text": [
      "Epoch 1/100\n",
      "11/11 [==============================] - 4s 264ms/step - loss: 0.0955 - mape: 11011904.0000 - val_loss: 0.0763 - val_mape: 56.3769\n",
      "Epoch 2/100\n",
      "11/11 [==============================] - 0s 7ms/step - loss: 0.0768 - mape: 6783938.0000 - val_loss: 0.0815 - val_mape: 38.6403\n",
      "Epoch 3/100\n",
      "11/11 [==============================] - 0s 7ms/step - loss: 0.0649 - mape: 8198164.5000 - val_loss: 0.0650 - val_mape: 40.9623\n",
      "Epoch 4/100\n",
      "11/11 [==============================] - 0s 7ms/step - loss: 0.0647 - mape: 7680005.0000 - val_loss: 0.0680 - val_mape: 39.5524\n",
      "Epoch 5/100\n",
      "11/11 [==============================] - 0s 8ms/step - loss: 0.0640 - mape: 7464627.0000 - val_loss: 0.0675 - val_mape: 39.4867\n",
      "Epoch 6/100\n",
      "11/11 [==============================] - 0s 8ms/step - loss: 0.0637 - mape: 7815556.5000 - val_loss: 0.0705 - val_mape: 38.6861\n",
      "Epoch 7/100\n",
      "11/11 [==============================] - 0s 7ms/step - loss: 0.0626 - mape: 7501664.0000 - val_loss: 0.0692 - val_mape: 38.9047\n",
      "Epoch 8/100\n",
      "11/11 [==============================] - 0s 7ms/step - loss: 0.0636 - mape: 7873998.5000 - val_loss: 0.0665 - val_mape: 39.8589\n",
      "Epoch 9/100\n",
      "11/11 [==============================] - 0s 7ms/step - loss: 0.0628 - mape: 7496746.5000 - val_loss: 0.0733 - val_mape: 38.1537\n",
      "Epoch 10/100\n",
      "11/11 [==============================] - 0s 7ms/step - loss: 0.0629 - mape: 8004900.5000 - val_loss: 0.0657 - val_mape: 40.2261\n",
      "Epoch 11/100\n",
      "11/11 [==============================] - 0s 7ms/step - loss: 0.0643 - mape: 7091752.0000 - val_loss: 0.0735 - val_mape: 38.1185\n",
      "Epoch 12/100\n",
      "11/11 [==============================] - 0s 8ms/step - loss: 0.0628 - mape: 7993205.0000 - val_loss: 0.0653 - val_mape: 40.3816\n",
      "Epoch 13/100\n",
      "11/11 [==============================] - 0s 7ms/step - loss: 0.0636 - mape: 7354359.0000 - val_loss: 0.0725 - val_mape: 38.2305\n",
      "Epoch 14/100\n",
      "11/11 [==============================] - 0s 7ms/step - loss: 0.0630 - mape: 7824811.0000 - val_loss: 0.0663 - val_mape: 39.9700\n",
      "Epoch 15/100\n",
      "11/11 [==============================] - 0s 7ms/step - loss: 0.0630 - mape: 7872946.0000 - val_loss: 0.0680 - val_mape: 39.3226\n",
      "Epoch 16/100\n",
      "11/11 [==============================] - 0s 7ms/step - loss: 0.0639 - mape: 7662837.0000 - val_loss: 0.0690 - val_mape: 38.9762\n",
      "Epoch 17/100\n",
      "11/11 [==============================] - 0s 7ms/step - loss: 0.0630 - mape: 7825752.5000 - val_loss: 0.0662 - val_mape: 39.9973\n",
      "Epoch 18/100\n",
      "11/11 [==============================] - 0s 7ms/step - loss: 0.0645 - mape: 7219882.5000 - val_loss: 0.0696 - val_mape: 38.8193\n",
      "Epoch 19/100\n",
      "11/11 [==============================] - 0s 7ms/step - loss: 0.0643 - mape: 7626790.5000 - val_loss: 0.0718 - val_mape: 38.4619\n",
      "Epoch 20/100\n",
      "11/11 [==============================] - 0s 6ms/step - loss: 0.0628 - mape: 7532986.0000 - val_loss: 0.0683 - val_mape: 39.2203\n",
      "Epoch 21/100\n",
      "11/11 [==============================] - 0s 9ms/step - loss: 0.0641 - mape: 7562473.5000 - val_loss: 0.0716 - val_mape: 38.4613\n",
      "Epoch 22/100\n",
      "11/11 [==============================] - 0s 7ms/step - loss: 0.0626 - mape: 7807696.0000 - val_loss: 0.0678 - val_mape: 39.3743\n",
      "Epoch 23/100\n",
      "11/11 [==============================] - 0s 7ms/step - loss: 0.0633 - mape: 7473146.0000 - val_loss: 0.0701 - val_mape: 38.6778\n",
      "Epoch 24/100\n",
      "11/11 [==============================] - 0s 7ms/step - loss: 0.0638 - mape: 7482867.5000 - val_loss: 0.0725 - val_mape: 38.2935\n",
      "Epoch 25/100\n",
      "11/11 [==============================] - 0s 7ms/step - loss: 0.0625 - mape: 7792823.0000 - val_loss: 0.0679 - val_mape: 39.3562\n",
      "Epoch 26/100\n",
      "11/11 [==============================] - 0s 7ms/step - loss: 0.0631 - mape: 7460480.5000 - val_loss: 0.0709 - val_mape: 38.6530\n",
      "Epoch 27/100\n",
      "11/11 [==============================] - 0s 7ms/step - loss: 0.0625 - mape: 7822917.0000 - val_loss: 0.0670 - val_mape: 39.6661\n",
      "Epoch 28/100\n",
      "11/11 [==============================] - 0s 6ms/step - loss: 0.0631 - mape: 7332615.0000 - val_loss: 0.0720 - val_mape: 38.3327\n",
      "Epoch 29/100\n",
      "11/11 [==============================] - 0s 7ms/step - loss: 0.0625 - mape: 7916753.5000 - val_loss: 0.0671 - val_mape: 39.6508\n",
      "Epoch 30/100\n",
      "11/11 [==============================] - 0s 7ms/step - loss: 0.0630 - mape: 7718592.0000 - val_loss: 0.0681 - val_mape: 39.2790\n",
      "Epoch 31/100\n",
      "11/11 [==============================] - 0s 7ms/step - loss: 0.0635 - mape: 7495747.0000 - val_loss: 0.0684 - val_mape: 39.1857\n",
      "Epoch 32/100\n",
      "11/11 [==============================] - 0s 7ms/step - loss: 0.0638 - mape: 7818106.5000 - val_loss: 0.0671 - val_mape: 39.6561\n",
      "Epoch 33/100\n",
      "11/11 [==============================] - 0s 7ms/step - loss: 0.0646 - mape: 7447918.0000 - val_loss: 0.0715 - val_mape: 38.4400\n",
      "Epoch 34/100\n",
      "11/11 [==============================] - 0s 8ms/step - loss: 0.0633 - mape: 7574015.0000 - val_loss: 0.0717 - val_mape: 38.3951\n",
      "Epoch 35/100\n",
      "11/11 [==============================] - 0s 7ms/step - loss: 0.0624 - mape: 7637817.0000 - val_loss: 0.0660 - val_mape: 40.0832\n",
      "Epoch 36/100\n",
      "11/11 [==============================] - 0s 7ms/step - loss: 0.0654 - mape: 7146492.5000 - val_loss: 0.0743 - val_mape: 37.9684\n",
      "Epoch 37/100\n",
      "11/11 [==============================] - 0s 7ms/step - loss: 0.0626 - mape: 8148662.0000 - val_loss: 0.0650 - val_mape: 40.5295\n",
      "Epoch 38/100\n",
      "11/11 [==============================] - 0s 7ms/step - loss: 0.0634 - mape: 7394907.5000 - val_loss: 0.0710 - val_mape: 38.5893\n",
      "Epoch 39/100\n",
      "11/11 [==============================] - 0s 6ms/step - loss: 0.0636 - mape: 7826315.5000 - val_loss: 0.0728 - val_mape: 38.2555\n",
      "Epoch 40/100\n",
      "11/11 [==============================] - 0s 7ms/step - loss: 0.0630 - mape: 7481624.0000 - val_loss: 0.0677 - val_mape: 39.4340\n",
      "Epoch 41/100\n",
      "11/11 [==============================] - 0s 7ms/step - loss: 0.0639 - mape: 8126503.5000 - val_loss: 0.0677 - val_mape: 39.4128\n",
      "Epoch 42/100\n",
      "11/11 [==============================] - 0s 7ms/step - loss: 0.0638 - mape: 7315992.0000 - val_loss: 0.0704 - val_mape: 38.5927\n",
      "Epoch 43/100\n",
      "11/11 [==============================] - 0s 7ms/step - loss: 0.0634 - mape: 7609891.0000 - val_loss: 0.0698 - val_mape: 38.8025\n",
      "Epoch 44/100\n",
      "11/11 [==============================] - 0s 7ms/step - loss: 0.0639 - mape: 7213393.5000 - val_loss: 0.0709 - val_mape: 38.5588\n",
      "Epoch 45/100\n",
      "11/11 [==============================] - 0s 7ms/step - loss: 0.0637 - mape: 7828892.0000 - val_loss: 0.0685 - val_mape: 39.1399\n",
      "Epoch 46/100\n",
      "11/11 [==============================] - 0s 8ms/step - loss: 0.0626 - mape: 7729305.5000 - val_loss: 0.0689 - val_mape: 39.0086\n",
      "Epoch 47/100\n",
      "11/11 [==============================] - 0s 7ms/step - loss: 0.0630 - mape: 7431645.5000 - val_loss: 0.0739 - val_mape: 38.0021\n",
      "Epoch 48/100\n",
      "11/11 [==============================] - 0s 7ms/step - loss: 0.0626 - mape: 7911149.5000 - val_loss: 0.0648 - val_mape: 40.5916\n",
      "Epoch 49/100\n",
      "11/11 [==============================] - 0s 7ms/step - loss: 0.0644 - mape: 7416773.0000 - val_loss: 0.0718 - val_mape: 38.5170\n",
      "Epoch 50/100\n",
      "11/11 [==============================] - 0s 7ms/step - loss: 0.0631 - mape: 7424504.5000 - val_loss: 0.0687 - val_mape: 39.0650\n",
      "Epoch 51/100\n",
      "11/11 [==============================] - 0s 7ms/step - loss: 0.0636 - mape: 7695336.5000 - val_loss: 0.0706 - val_mape: 38.5847\n",
      "Epoch 52/100\n",
      "11/11 [==============================] - 0s 7ms/step - loss: 0.0631 - mape: 7525429.5000 - val_loss: 0.0717 - val_mape: 38.3953\n",
      "Epoch 53/100\n",
      "11/11 [==============================] - 0s 7ms/step - loss: 0.0634 - mape: 7518968.0000 - val_loss: 0.0684 - val_mape: 39.1611\n",
      "Epoch 54/100\n",
      "11/11 [==============================] - 0s 7ms/step - loss: 0.0642 - mape: 7384214.5000 - val_loss: 0.0727 - val_mape: 38.2514\n",
      "Epoch 55/100\n",
      "11/11 [==============================] - 0s 7ms/step - loss: 0.0627 - mape: 7613926.0000 - val_loss: 0.0680 - val_mape: 39.3239\n",
      "Epoch 56/100\n",
      "11/11 [==============================] - 0s 7ms/step - loss: 0.0632 - mape: 7670672.5000 - val_loss: 0.0685 - val_mape: 39.1318\n",
      "Epoch 57/100\n",
      "11/11 [==============================] - 0s 7ms/step - loss: 0.0626 - mape: 7649975.0000 - val_loss: 0.0677 - val_mape: 39.4101\n",
      "Epoch 58/100\n",
      "11/11 [==============================] - 0s 7ms/step - loss: 0.0629 - mape: 7801390.5000 - val_loss: 0.0692 - val_mape: 38.9023\n",
      "Epoch 59/100\n",
      "11/11 [==============================] - 0s 7ms/step - loss: 0.0625 - mape: 7448083.0000 - val_loss: 0.0710 - val_mape: 38.5165\n",
      "Epoch 60/100\n",
      "11/11 [==============================] - 0s 7ms/step - loss: 0.0631 - mape: 8150109.5000 - val_loss: 0.0654 - val_mape: 40.3176\n",
      "Epoch 61/100\n",
      "11/11 [==============================] - 0s 7ms/step - loss: 0.0631 - mape: 7276793.0000 - val_loss: 0.0754 - val_mape: 37.9226\n",
      "Epoch 62/100\n",
      "11/11 [==============================] - 0s 7ms/step - loss: 0.0622 - mape: 8105418.0000 - val_loss: 0.0635 - val_mape: 41.3595\n",
      "Epoch 63/100\n",
      "11/11 [==============================] - 0s 10ms/step - loss: 0.0638 - mape: 7448794.5000 - val_loss: 0.0733 - val_mape: 38.1491\n",
      "Epoch 64/100\n",
      "11/11 [==============================] - 0s 7ms/step - loss: 0.0633 - mape: 7776170.0000 - val_loss: 0.0663 - val_mape: 39.9724\n",
      "Epoch 65/100\n",
      "11/11 [==============================] - 0s 7ms/step - loss: 0.0643 - mape: 7507388.5000 - val_loss: 0.0735 - val_mape: 38.1582\n",
      "Epoch 66/100\n",
      "11/11 [==============================] - 0s 7ms/step - loss: 0.0624 - mape: 7660962.0000 - val_loss: 0.0662 - val_mape: 40.0161\n",
      "Epoch 67/100\n",
      "11/11 [==============================] - 0s 7ms/step - loss: 0.0636 - mape: 7891573.5000 - val_loss: 0.0699 - val_mape: 38.7413\n",
      "Epoch 68/100\n",
      "11/11 [==============================] - 0s 7ms/step - loss: 0.0643 - mape: 7326361.5000 - val_loss: 0.0701 - val_mape: 38.6970\n",
      "Epoch 69/100\n",
      "11/11 [==============================] - 0s 7ms/step - loss: 0.0643 - mape: 7732660.0000 - val_loss: 0.0711 - val_mape: 38.5217\n",
      "Epoch 70/100\n",
      "11/11 [==============================] - 0s 7ms/step - loss: 0.0630 - mape: 8113748.0000 - val_loss: 0.0657 - val_mape: 40.2090\n",
      "Epoch 71/100\n",
      "11/11 [==============================] - 0s 8ms/step - loss: 0.0634 - mape: 7130607.5000 - val_loss: 0.0750 - val_mape: 37.9420\n",
      "Epoch 72/100\n",
      "11/11 [==============================] - 0s 8ms/step - loss: 0.0630 - mape: 7968844.0000 - val_loss: 0.0682 - val_mape: 39.2455\n",
      "Epoch 73/100\n",
      "11/11 [==============================] - 0s 9ms/step - loss: 0.0642 - mape: 7793874.5000 - val_loss: 0.0676 - val_mape: 39.4668\n",
      "Epoch 74/100\n",
      "11/11 [==============================] - 0s 7ms/step - loss: 0.0631 - mape: 7646438.5000 - val_loss: 0.0692 - val_mape: 38.9197\n",
      "Epoch 75/100\n",
      "11/11 [==============================] - 0s 6ms/step - loss: 0.0627 - mape: 7716283.0000 - val_loss: 0.0689 - val_mape: 38.9844\n",
      "Epoch 76/100\n",
      "11/11 [==============================] - 0s 7ms/step - loss: 0.0628 - mape: 7516906.0000 - val_loss: 0.0697 - val_mape: 38.7662\n",
      "Epoch 77/100\n",
      "11/11 [==============================] - 0s 7ms/step - loss: 0.0625 - mape: 7766462.5000 - val_loss: 0.0677 - val_mape: 39.4123\n",
      "Epoch 78/100\n",
      "11/11 [==============================] - 0s 7ms/step - loss: 0.0634 - mape: 7276210.0000 - val_loss: 0.0731 - val_mape: 38.1641\n",
      "Epoch 79/100\n",
      "11/11 [==============================] - 0s 7ms/step - loss: 0.0629 - mape: 7855259.5000 - val_loss: 0.0667 - val_mape: 39.7798\n",
      "Epoch 80/100\n",
      "11/11 [==============================] - 0s 7ms/step - loss: 0.0627 - mape: 7492071.5000 - val_loss: 0.0725 - val_mape: 38.2610\n",
      "Epoch 81/100\n",
      "11/11 [==============================] - 0s 7ms/step - loss: 0.0627 - mape: 7730378.5000 - val_loss: 0.0668 - val_mape: 39.7497\n",
      "Epoch 82/100\n",
      "11/11 [==============================] - 0s 7ms/step - loss: 0.0634 - mape: 7517965.0000 - val_loss: 0.0689 - val_mape: 39.0037\n",
      "Epoch 83/100\n",
      "11/11 [==============================] - 0s 7ms/step - loss: 0.0630 - mape: 7527773.5000 - val_loss: 0.0697 - val_mape: 38.7259\n",
      "Epoch 84/100\n",
      "11/11 [==============================] - 0s 8ms/step - loss: 0.0628 - mape: 7861124.5000 - val_loss: 0.0681 - val_mape: 39.2634\n",
      "Epoch 85/100\n",
      "11/11 [==============================] - 0s 8ms/step - loss: 0.0636 - mape: 8019824.0000 - val_loss: 0.0662 - val_mape: 40.0136\n",
      "Epoch 86/100\n",
      "11/11 [==============================] - 0s 8ms/step - loss: 0.0640 - mape: 7259387.0000 - val_loss: 0.0724 - val_mape: 38.2262\n",
      "Epoch 87/100\n",
      "11/11 [==============================] - 0s 7ms/step - loss: 0.0629 - mape: 7710448.0000 - val_loss: 0.0690 - val_mape: 38.9525\n",
      "Epoch 88/100\n",
      "11/11 [==============================] - 0s 8ms/step - loss: 0.0633 - mape: 7456238.5000 - val_loss: 0.0716 - val_mape: 38.3845\n",
      "Epoch 89/100\n",
      "11/11 [==============================] - 0s 7ms/step - loss: 0.0623 - mape: 7987104.5000 - val_loss: 0.0670 - val_mape: 39.6973\n",
      "Epoch 90/100\n",
      "11/11 [==============================] - 0s 7ms/step - loss: 0.0630 - mape: 7299657.0000 - val_loss: 0.0714 - val_mape: 38.4868\n",
      "Epoch 91/100\n",
      "11/11 [==============================] - 0s 7ms/step - loss: 0.0630 - mape: 7909361.0000 - val_loss: 0.0681 - val_mape: 39.2647\n",
      "Epoch 92/100\n",
      "11/11 [==============================] - 0s 7ms/step - loss: 0.0635 - mape: 7211827.0000 - val_loss: 0.0703 - val_mape: 38.6347\n",
      "Epoch 93/100\n",
      "11/11 [==============================] - 0s 7ms/step - loss: 0.0631 - mape: 8030160.5000 - val_loss: 0.0670 - val_mape: 39.6941\n",
      "Epoch 94/100\n",
      "11/11 [==============================] - 0s 7ms/step - loss: 0.0634 - mape: 7195197.0000 - val_loss: 0.0732 - val_mape: 38.1628\n",
      "Epoch 95/100\n",
      "11/11 [==============================] - 0s 7ms/step - loss: 0.0627 - mape: 8117152.0000 - val_loss: 0.0672 - val_mape: 39.6016\n",
      "Epoch 96/100\n",
      "11/11 [==============================] - 0s 7ms/step - loss: 0.0639 - mape: 7598065.0000 - val_loss: 0.0676 - val_mape: 39.4435\n",
      "Epoch 97/100\n",
      "11/11 [==============================] - 0s 7ms/step - loss: 0.0633 - mape: 7474895.0000 - val_loss: 0.0714 - val_mape: 38.5300\n",
      "Epoch 98/100\n",
      "11/11 [==============================] - 0s 7ms/step - loss: 0.0628 - mape: 7523835.0000 - val_loss: 0.0701 - val_mape: 38.7516\n",
      "Epoch 99/100\n",
      "11/11 [==============================] - 0s 7ms/step - loss: 0.0623 - mape: 7922465.0000 - val_loss: 0.0676 - val_mape: 39.4675\n",
      "Epoch 100/100\n",
      "11/11 [==============================] - 0s 8ms/step - loss: 0.0635 - mape: 7326569.0000 - val_loss: 0.0694 - val_mape: 38.8452\n"
     ]
    }
   ],
   "source": [
    "history_paracetamol = model_paracetamol.fit(train_set,epochs=100,validation_data=valid_set)"
   ]
  },
  {
   "cell_type": "code",
   "execution_count": 26,
   "metadata": {},
   "outputs": [
    {
     "name": "stdout",
     "output_type": "stream",
     "text": [
      "3/3 [==============================] - 0s 15ms/step - loss: 0.0694 - mape: 38.8452\n"
     ]
    },
    {
     "data": {
      "text/plain": [
       "[0.06938537210226059, 38.845157623291016]"
      ]
     },
     "execution_count": 26,
     "metadata": {},
     "output_type": "execute_result"
    }
   ],
   "source": [
    "model_paracetamol.evaluate(valid_set)"
   ]
  },
  {
   "cell_type": "code",
   "execution_count": 28,
   "metadata": {},
   "outputs": [
    {
     "name": "stdout",
     "output_type": "stream",
     "text": [
      "INFO:tensorflow:Assets written to: ram://7c472efa-b06c-4a09-ac67-d60a9b38e1e7/assets\n"
     ]
    }
   ],
   "source": [
    "import pickle\n",
    "\n",
    "pickle.dump(history_paracetamol, open(\"modelParacetamol.pkl\", \"wb\"))"
   ]
  },
  {
   "cell_type": "code",
   "execution_count": 26,
   "metadata": {},
   "outputs": [],
   "source": [
    "# paracetamol_dir = 'C:/Tugas Akhir/skripshit/Program/simpan_paracetamol'\n",
    "# save_option = tf.saved_model.SaveOptions(experimental_io_device=\"/job:localhost\")\n",
    "# model_paracetamol.save(paracetamol_dir, options=save_option)\n",
    "\n",
    "# loaded_model = tf.keras.models.load_model(paracetamol_dir, options=save_option)"
   ]
  },
  {
   "cell_type": "markdown",
   "metadata": {},
   "source": [
    "# Save Model"
   ]
  },
  {
   "cell_type": "code",
   "execution_count": 29,
   "metadata": {},
   "outputs": [
    {
     "ename": "RuntimeError",
     "evalue": "Method `model.to_yaml()` has been removed due to security risk of arbitrary code execution. Please use `model.to_json()` instead.",
     "output_type": "error",
     "traceback": [
      "\u001b[1;31m---------------------------------------------------------------------------\u001b[0m",
      "\u001b[1;31mRuntimeError\u001b[0m                              Traceback (most recent call last)",
      "Cell \u001b[1;32mIn [29], line 1\u001b[0m\n\u001b[1;32m----> 1\u001b[0m model_yaml \u001b[39m=\u001b[39m model_paracetamol\u001b[39m.\u001b[39;49mto_yaml()\n\u001b[0;32m      2\u001b[0m \u001b[39mwith\u001b[39;00m \u001b[39mopen\u001b[39m (\u001b[39m'\u001b[39m\u001b[39mmodel.yaml\u001b[39m\u001b[39m'\u001b[39m, \u001b[39m'\u001b[39m\u001b[39mw\u001b[39m\u001b[39m'\u001b[39m) \u001b[39mas\u001b[39;00m yaml_file:\n\u001b[0;32m      3\u001b[0m     yaml_file\u001b[39m.\u001b[39mwrite(model_yaml)\n",
      "File \u001b[1;32mc:\\Users\\Yopi Saputra\\Python\\Python3103\\lib\\site-packages\\keras\\engine\\training.py:3114\u001b[0m, in \u001b[0;36mModel.to_yaml\u001b[1;34m(self, **kwargs)\u001b[0m\n\u001b[0;32m   3091\u001b[0m \u001b[39mdef\u001b[39;00m \u001b[39mto_yaml\u001b[39m(\u001b[39mself\u001b[39m, \u001b[39m*\u001b[39m\u001b[39m*\u001b[39mkwargs):\n\u001b[0;32m   3092\u001b[0m     \u001b[39m\"\"\"Returns a yaml string containing the network configuration.\u001b[39;00m\n\u001b[0;32m   3093\u001b[0m \n\u001b[0;32m   3094\u001b[0m \u001b[39m    Note: Since TF 2.6, this method is no longer supported and will raise a\u001b[39;00m\n\u001b[1;32m   (...)\u001b[0m\n\u001b[0;32m   3112\u001b[0m \u001b[39m        RuntimeError: announces that the method poses a security risk\u001b[39;00m\n\u001b[0;32m   3113\u001b[0m \u001b[39m    \"\"\"\u001b[39;00m\n\u001b[1;32m-> 3114\u001b[0m     \u001b[39mraise\u001b[39;00m \u001b[39mRuntimeError\u001b[39;00m(\n\u001b[0;32m   3115\u001b[0m         \u001b[39m\"\u001b[39m\u001b[39mMethod `model.to_yaml()` has been removed due to security risk of \u001b[39m\u001b[39m\"\u001b[39m\n\u001b[0;32m   3116\u001b[0m         \u001b[39m\"\u001b[39m\u001b[39marbitrary code execution. Please use `model.to_json()` instead.\u001b[39m\u001b[39m\"\u001b[39m\n\u001b[0;32m   3117\u001b[0m     )\n",
      "\u001b[1;31mRuntimeError\u001b[0m: Method `model.to_yaml()` has been removed due to security risk of arbitrary code execution. Please use `model.to_json()` instead."
     ]
    }
   ],
   "source": [
    "model_yaml = model_paracetamol.to_yaml()\n",
    "with open ('model.yaml', 'w') as yaml_file:\n",
    "    yaml_file.write(model_yaml)\n",
    "\n",
    "model_paracetamol.save_weights('model.h5')\n",
    "print(\"save model\")"
   ]
  },
  {
   "cell_type": "code",
   "execution_count": 30,
   "metadata": {},
   "outputs": [
    {
     "name": "stdout",
     "output_type": "stream",
     "text": [
      "You must install pydot (`pip install pydot`) and install graphviz (see instructions at https://graphviz.gitlab.io/download/) for plot_model to work.\n"
     ]
    }
   ],
   "source": [
    "img_file = './model_arch.png'\n",
    "\n",
    "tf.keras.utils.plot_model(model_paracetamol, to_file=img_file, show_shapes=True, show_layer_names=True)"
   ]
  }
 ],
 "metadata": {
  "kernelspec": {
   "display_name": "Python 3.10.3 64-bit",
   "language": "python",
   "name": "python3"
  },
  "language_info": {
   "codemirror_mode": {
    "name": "ipython",
    "version": 3
   },
   "file_extension": ".py",
   "mimetype": "text/x-python",
   "name": "python",
   "nbconvert_exporter": "python",
   "pygments_lexer": "ipython3",
   "version": "3.10.3"
  },
  "orig_nbformat": 4,
  "vscode": {
   "interpreter": {
    "hash": "132106510fc0582817a7d9eabf021e71fb20b84eec3c337b95f0dff1e2e21512"
   }
  }
 },
 "nbformat": 4,
 "nbformat_minor": 2
}
